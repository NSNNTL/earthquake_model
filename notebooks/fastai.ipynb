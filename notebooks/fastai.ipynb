{
 "cells": [
  {
   "cell_type": "markdown",
   "id": "2c07e7a0-3fec-4837-bdc0-db1da9d7b0e7",
   "metadata": {},
   "source": [
    "https://fastai1.fast.ai/troubleshoot.html"
   ]
  },
  {
   "cell_type": "code",
   "execution_count": 1,
   "id": "8c90dcf2-8b01-4f7e-86ae-80782c8ecf98",
   "metadata": {},
   "outputs": [
    {
     "ename": "AttributeError",
     "evalue": "module 'fastai' has no attribute 'defaults'",
     "output_type": "error",
     "traceback": [
      "\u001b[0;31m---------------------------------------------------------------------------\u001b[0m",
      "\u001b[0;31mAttributeError\u001b[0m                            Traceback (most recent call last)",
      "Cell \u001b[0;32mIn[1], line 6\u001b[0m\n\u001b[1;32m      3\u001b[0m \u001b[38;5;28;01mimport\u001b[39;00m \u001b[38;5;21;01mtorch\u001b[39;00m\n\u001b[1;32m      4\u001b[0m \u001b[38;5;28;01mimport\u001b[39;00m \u001b[38;5;21;01mfastai\u001b[39;00m\n\u001b[0;32m----> 6\u001b[0m \u001b[43mfastai\u001b[49m\u001b[38;5;241;43m.\u001b[39;49m\u001b[43mdefaults\u001b[49m\u001b[38;5;241m.\u001b[39mdevice \u001b[38;5;241m=\u001b[39m \u001b[38;5;124m\"\u001b[39m\u001b[38;5;124mcpu\u001b[39m\u001b[38;5;124m\"\u001b[39m\n",
      "\u001b[0;31mAttributeError\u001b[0m: module 'fastai' has no attribute 'defaults'"
     ]
    }
   ],
   "source": [
    "#import os\n",
    "#os.environ['CUDA_LAUNCH_BLOCKING'] = \"1\"\n",
    "import torch\n",
    "import fastai\n",
    "\n",
    "fastai.defaults.device = \"cpu\""
   ]
  },
  {
   "cell_type": "markdown",
   "id": "4718d64e-cb01-4624-98c8-ef7a5961904f",
   "metadata": {},
   "source": [
    "[https://walkwithfastai.com/Segmentation]"
   ]
  },
  {
   "cell_type": "code",
   "execution_count": null,
   "id": "2eb2c4bc-14c1-4b68-acdd-16d4a832a880",
   "metadata": {},
   "outputs": [],
   "source": [
    "from fastai.data.all import *\n",
    "from fastai.vision.all import *"
   ]
  },
  {
   "cell_type": "code",
   "execution_count": null,
   "id": "4fb73152-53d9-4bd2-8c2f-940a7d9054ae",
   "metadata": {},
   "outputs": [],
   "source": [
    "path = Path(\"../data/post-disaster/\")\n",
    "path.ls()"
   ]
  },
  {
   "cell_type": "code",
   "execution_count": null,
   "id": "75e8db99-1d23-4411-a693-b91e678085c6",
   "metadata": {},
   "outputs": [],
   "source": [
    "codes = np.loadtxt(path/'codes.txt', dtype=str)\n",
    "codes"
   ]
  },
  {
   "cell_type": "code",
   "execution_count": null,
   "id": "8c34aeab-bfe6-441a-8d88-5b9957511d94",
   "metadata": {},
   "outputs": [],
   "source": [
    "fnames = get_image_files(path/\"images\")\n",
    "fnames"
   ]
  },
  {
   "cell_type": "code",
   "execution_count": null,
   "id": "6f5467ca-aa9e-4c7f-85b4-a4d3f6b6fd83",
   "metadata": {},
   "outputs": [],
   "source": [
    "(path/\"targets\").ls()"
   ]
  },
  {
   "cell_type": "code",
   "execution_count": null,
   "id": "090da09c-a501-40e2-afb6-a8ba175cd9d4",
   "metadata": {},
   "outputs": [],
   "source": [
    "def label_func(fn): return path/\"targets\"/f\"{fn.stem}_target{fn.suffix}\""
   ]
  },
  {
   "cell_type": "code",
   "execution_count": null,
   "id": "2c1931d6-870e-4813-8976-11c110ddd8f7",
   "metadata": {},
   "outputs": [],
   "source": [
    "dls = SegmentationDataLoaders.from_label_func(\n",
    "    path,\n",
    "    bs=8,\n",
    "    fnames = fnames,\n",
    "    label_func = label_func,\n",
    "    codes = codes,\n",
    "    item_tfms = Resize(32)\n",
    ")\n",
    "#dls.vocab = codes"
   ]
  },
  {
   "cell_type": "code",
   "execution_count": null,
   "id": "e28d2c44-01d7-4350-95fe-de488ba05dc8",
   "metadata": {},
   "outputs": [],
   "source": [
    "dls.show_batch(max_n=8)"
   ]
  },
  {
   "cell_type": "code",
   "execution_count": null,
   "id": "9f28c93b-148f-427b-aedb-8a8f0b3b3a2a",
   "metadata": {},
   "outputs": [],
   "source": [
    "opt = ranger\n",
    "learn = unet_learner(\n",
    "    dls, \n",
    "    resnet18, \n",
    "    metrics=accuracy, \n",
    "    self_attention=True, \n",
    "    act_cls=Mish,\n",
    "    opt_func=opt,\n",
    ")\n",
    "learn.summary()"
   ]
  },
  {
   "cell_type": "code",
   "execution_count": null,
   "id": "e9510be2-f14b-42b5-9310-3559fe109a67",
   "metadata": {},
   "outputs": [],
   "source": [
    "learn.fit_one_cycle(10, 1e-3).cpu()"
   ]
  },
  {
   "cell_type": "code",
   "execution_count": null,
   "id": "e93a0a8c-910e-4a4f-9a11-936b3880dba6",
   "metadata": {},
   "outputs": [],
   "source": []
  }
 ],
 "metadata": {
  "kernelspec": {
   "display_name": "Python 3 (ipykernel)",
   "language": "python",
   "name": "python3"
  },
  "language_info": {
   "codemirror_mode": {
    "name": "ipython",
    "version": 3
   },
   "file_extension": ".py",
   "mimetype": "text/x-python",
   "name": "python",
   "nbconvert_exporter": "python",
   "pygments_lexer": "ipython3",
   "version": "3.11.9"
  }
 },
 "nbformat": 4,
 "nbformat_minor": 5
}
