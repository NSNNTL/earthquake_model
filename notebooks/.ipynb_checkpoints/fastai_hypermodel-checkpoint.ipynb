{
 "cells": [
  {
   "cell_type": "markdown",
   "id": "4718d64e-cb01-4624-98c8-ef7a5961904f",
   "metadata": {},
   "source": [
    "[https://walkwithfastai.com/Segmentation]"
   ]
  },
  {
   "cell_type": "code",
   "execution_count": 1,
   "id": "8c90dcf2-8b01-4f7e-86ae-80782c8ecf98",
   "metadata": {},
   "outputs": [],
   "source": [
    "import torch\n",
    "from fastai.data.all import *\n",
    "from fastai.vision.all import *\n",
    "from patchify import patchify\n",
    "from PIL import Image\n",
    "import optuna\n",
    "from optuna.integration import FastAIPruningCallback\n",
    "import optuna.visualization as vs\n",
    "import monai.losses as mdlss #(med loss)\n",
    "\n",
    "# NON-OPTIMIZED HYPERPARAMS (cause my GPU can't handle it :P)\n",
    "# batch size\n",
    "BATCH_SZ = 8 # has to be small since it's a unet\n",
    "# patch size\n",
    "PATCH_SZ = 256 # must be a multiple of the image size, obviously. This is appropriate for BATCH_SZ.\n",
    "\n",
    "# Set these low for testing hyper-optimizer setup. May be hyperparams later.\n",
    "FREEZE_EPOCHS = 1\n",
    "EPOCHS = 2\n",
    "NUM_TRIALS = 2\n",
    "\n"
   ]
  },
  {
   "cell_type": "markdown",
   "id": "cc9a008d-e955-421d-8bfb-bd4b277e2989",
   "metadata": {},
   "source": [
    "### Pre-pipeline processing with patchify"
   ]
  },
  {
   "cell_type": "code",
   "execution_count": 2,
   "id": "6bec4e09-5f58-494d-8f74-e99f22bcc2db",
   "metadata": {},
   "outputs": [],
   "source": [
    "# simpler implementation, more readable if perhaps less dry...\n",
    "def extract_patches(full_arr, sz=PATCH_SZ):\n",
    "    patch_list = []\n",
    "    if len(full_arr.shape) < 3 : # account for no channel dim (masks)\n",
    "        patch_arr = patchify(full_arr, (sz, sz), sz)\n",
    "        for i in range(patch_arr.shape[0]):\n",
    "            for j in range(patch_arr.shape[1]):\n",
    "                patch_list.append(patch_arr[i,j,:,:])\n",
    "    \n",
    "    else:\n",
    "        channels = full_arr.shape[-1]\n",
    "        patch_arr = patchify(full_arr, (sz, sz, channels), sz)\n",
    "        for i in range(patch_arr.shape[0]):\n",
    "            for j in range(patch_arr.shape[1]):\n",
    "                patch_list.append(patch_arr[i,j,:,:,:])\n",
    "\n",
    "\n",
    "    return patch_list"
   ]
  },
  {
   "cell_type": "code",
   "execution_count": 3,
   "id": "276698f0-d94b-4e72-9cc8-32c86e7ac7dc",
   "metadata": {},
   "outputs": [],
   "source": [
    "#TODO - screw around calculating class imbalance\n",
    "\n",
    "def get_all_patches(path):\n",
    "    \"\"\"\n",
    "    Given an input data directory,\n",
    "    returns a list with tuples of form (img_patch, msk_patch)\n",
    "    \"\"\"\n",
    "    \n",
    "    def get_arrays(path):\n",
    "        #This NEEDS to be sorted or everything else will be messed up...\n",
    "        paths = sorted(path.glob(\"*\"))\n",
    "        return [np.array(Image.open(path)) for path in paths]\n",
    "\n",
    "    img_arrs = get_arrays(path/\"images\")\n",
    "    msk_arrs = get_arrays(path/\"targets\")\n",
    "\n",
    "    img_patches = [extract_patches(img_arr) for img_arr in img_arrs]\n",
    "    msk_patches = [extract_patches(msk_arr) for msk_arr in msk_arrs]\n",
    "\n",
    "    img_patches = [patch for patches in img_patches for patch in patches]\n",
    "    msk_patches = [patch for patches in msk_patches for patch in patches]\n",
    "\n",
    "    # extra processing-- not efficient, but necessary!\n",
    "    img_patches = [patch.squeeze() for patch in img_patches]\n",
    "    msk_patches = [patch.squeeze() for patch in msk_patches]\n",
    "\n",
    "    all_patches = list(zip(img_patches, msk_patches))\n",
    "\n",
    "    return all_patches\n",
    "\n",
    "# don't optimize prematurely! >:3\n",
    "\n",
    "def save_patches(patches, output_dir):\n",
    "    \"\"\"\n",
    "    given patches and an output dir, save all patches\n",
    "    \"\"\"\n",
    "    total = len(patches)\n",
    "    for i, (img, msk) in enumerate(patches):\n",
    "        Image.fromarray(img).save(output_dir/\"images\"/f\"{i}.png\")\n",
    "        Image.fromarray(msk).save(output_dir/\"targets\"/f\"{i}.png\")\n",
    "        print(f\"Saved tuple {i}/{total}\", end=\"\\r\", flush=True)\n",
    "    print(end=\"\\r\", flush=True)\n"
   ]
  },
  {
   "cell_type": "code",
   "execution_count": 4,
   "id": "4fb73152-53d9-4bd2-8c2f-940a7d9054ae",
   "metadata": {},
   "outputs": [
    {
     "name": "stdout",
     "output_type": "stream",
     "text": [
      "patches already extracted! skipping.\n"
     ]
    }
   ],
   "source": [
    "\n",
    "base_path = Path(\"../data/\")\n",
    "data_dir = base_path/\"full\"/\"post-disaster\"\n",
    "patch_dir = base_path/f\"{PATCH_SZ}_patches\"\n",
    "\n",
    "\n",
    "if not patch_dir.is_dir():\n",
    "    # make necessary directories\n",
    "    patch_dir.mkdir()\n",
    "    (patch_dir/\"images\").mkdir()\n",
    "    (patch_dir/\"targets\").mkdir()\n",
    "\n",
    "    print(\"extracting patches...\")\n",
    "    patches = get_all_patches(data_dir)\n",
    "    print(\"saving patches...\")\n",
    "    save_patches(patches, patch_dir)\n",
    "    print(\"all patches saved!\")\n",
    "else:\n",
    "    print(\"patches already extracted! skipping.\")\n"
   ]
  },
  {
   "cell_type": "markdown",
   "id": "e1fb7a38-1d43-4fbd-80fc-e8836f31e8a9",
   "metadata": {},
   "source": [
    "### Make Optimizer"
   ]
  },
  {
   "cell_type": "code",
   "execution_count": 1,
   "id": "e07ddbb3-6845-4a9d-a0c3-9e37fd39464c",
   "metadata": {},
   "outputs": [],
   "source": [
    "def objective(trial):\n",
    "\n",
    "    #things the optimizer does...\n",
    "    loss_fn = trial.suggest_categorical(\"loss_fn\",\n",
    "                                        [CrossEntropyLossFlat(axis=1),\n",
    "                                         DiceLoss()]\n",
    "                                       )\n",
    "    pretrained = trial.suggest_categorical(\"pretrained\", True, False)\n",
    "    \n",
    "    path = patch_dir\n",
    "    codes = [\"Background\", \"NoDamage\", \"MinorDamage\", \"MajorDamage\", \"Destroyed\"]\n",
    "    \n",
    "    dls = SegmentationDataLoaders.from_label_func(path, bs=BATCH_SZ,\n",
    "        fnames = get_image_files(path/\"images\"), \n",
    "        label_func = lambda o: path/\"targets\"/f\"{o.stem}{o.suffix}\",                                     \n",
    "        codes = codes,\n",
    "        # batch_tfms=[*aug_transforms(size=(360,480)), Normalize.from_stats(*imagenet_stats)]\n",
    "        )\n",
    "\n",
    "    learn = unet_learner(\n",
    "        dls, \n",
    "        resnet18, \n",
    "        metrics=DiceMulti(axis=1),\n",
    "        self_attention=True, \n",
    "        act_cls=Mish,\n",
    "        loss_func = loss_fn_dict[loss_fn],\n",
    "        pretrained=True,\n",
    "        n_out = len(codes) # set codes implicitly later\n",
    "    )\n",
    "\n",
    "    model_cbs = [\n",
    "    # EarlyStoppingCallback(monitor='valid_loss', min_delta=0.1, patience=2), # detect overfitting\n",
    "    # EarlyStoppingCallback(monitor='train_loss', min_delta=0.1, patience=3), # decect stalled training\n",
    "    # ActivationStats(with_hist=True)], # too slow\n",
    "    FastAIPruningCallback(trial, monitor=\"dice_multi\")\n",
    "    # set this to `train_loss` to purposely overfit?\n",
    "    # ! Optimizer may lose information on overfitting I need to look at... make sure to log everything.\n",
    "    # TRY USING FP.16!!\n",
    "    ]\n",
    "\n",
    "    lr = learn.lr_find()\n",
    "    lr = lr[0]; lr\n",
    "\n",
    "    # See https://forums.fast.ai/t/how-to-diable-progress-bar-completely/65249/3\n",
    "    # to disable progress bar and logging info.\n",
    "    with learn.no_bar():\n",
    "        with learn.no_logging():\n",
    "            learn.fine_tune(epochs=EPOCHS,\n",
    "                    base_lr=lr,\n",
    "                    freeze_epochs=FREEZE_EPOCHS,\n",
    "                    cbs=model_cbs\n",
    "                   )\n",
    "\n",
    "    return learn.recorder.metrics[0].value.item() # only one metric to worry about"
   ]
  },
  {
   "cell_type": "markdown",
   "id": "e41db72d-9025-41dd-8c11-f2cd3e31eb70",
   "metadata": {},
   "source": [
    "### Optimize"
   ]
  },
  {
   "cell_type": "code",
   "execution_count": null,
   "id": "31bedf71-30ad-47e1-83ff-cec246bf4b8e",
   "metadata": {},
   "outputs": [],
   "source": [
    "study = optuna.create_study(direction=\"maximize\") # use default pruner\n",
    "study.optimize(objective, n_trials=NUM_TRIALS, timeout=600)"
   ]
  },
  {
   "cell_type": "code",
   "execution_count": null,
   "id": "baa91fd7-10d2-4a20-8bef-c5ff204c89ea",
   "metadata": {},
   "outputs": [],
   "source": [
    "# print a bunch of junk\n",
    "\n",
    "print(\"Number of finished trials: {}\".format(len(study.trials)))\n",
    "\n",
    "print(\"Best trial:\")\n",
    "trial = study.best_trial\n",
    "\n",
    "print(\"  Value: {}\".format(trial.value))\n",
    "\n",
    "print(\"  Params: \")\n",
    "for key, value in trial.params.items():\n",
    "    print(\"    {}: {}\".format(key, value))"
   ]
  }
 ],
 "metadata": {
  "kernelspec": {
   "display_name": "Python 3 (ipykernel)",
   "language": "python",
   "name": "python3"
  },
  "language_info": {
   "codemirror_mode": {
    "name": "ipython",
    "version": 3
   },
   "file_extension": ".py",
   "mimetype": "text/x-python",
   "name": "python",
   "nbconvert_exporter": "python",
   "pygments_lexer": "ipython3",
   "version": "3.11.9"
  }
 },
 "nbformat": 4,
 "nbformat_minor": 5
}
