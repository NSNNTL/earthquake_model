{
 "cells": [
  {
   "cell_type": "markdown",
   "id": "c912fc98-58a4-4fe9-ae68-8984d476f2c9",
   "metadata": {},
   "source": [
    "# Research Goal: test as many different loss functions as possible for THIS SPECIFIC USE!"
   ]
  },
  {
   "cell_type": "markdown",
   "id": "4718d64e-cb01-4624-98c8-ef7a5961904f",
   "metadata": {
    "editable": true,
    "slideshow": {
     "slide_type": ""
    },
    "tags": []
   },
   "source": [
    "[https://walkwithfastai.com/Segmentation]"
   ]
  },
  {
   "cell_type": "code",
   "execution_count": 1,
   "id": "8c90dcf2-8b01-4f7e-86ae-80782c8ecf98",
   "metadata": {},
   "outputs": [],
   "source": [
    "import torch\n",
    "from fastai.data.all import *\n",
    "from fastai.vision.all import *\n",
    "from patchify import patchify\n",
    "from PIL import Image\n",
    "import optuna\n",
    "from optuna.integration import FastAIPruningCallback\n",
    "import optuna.visualization as vs\n",
    "#import monai.losses as mdlss #(med loss)\n",
    "from extra_loss_functions import *\n",
    "\n",
    "# NON-OPTIMIZED HYPERPARAMS (cause my GPU can't handle it :P)\n",
    "\n",
    "# the gpu can hold 256 * 256 * 8 pixels = 524288\n",
    "#  or 128 * 128 * 32\n",
    "# or 64 * 64 * 128\n",
    "# or 32 * 32 * 512\n",
    "SIZES = [(256, 8), (128, 32), (64, 128), (32, 512)]\n",
    "PATCH_SZ, BATCH_SZ = SIZES[0]\n",
    "\n",
    "\n",
    "# Set these low for testing hyper-optimizer setup. May be hyperparams later.\n",
    "FREEZE_EPOCHS = 1\n",
    "EPOCHS = 2\n",
    "NUM_TRIALS = 2\n",
    "\n"
   ]
  },
  {
   "cell_type": "markdown",
   "id": "cc9a008d-e955-421d-8bfb-bd4b277e2989",
   "metadata": {},
   "source": [
    "### Pre-pipeline processing with patchify"
   ]
  },
  {
   "cell_type": "markdown",
   "id": "e1fb7a38-1d43-4fbd-80fc-e8836f31e8a9",
   "metadata": {},
   "source": [
    "### Make Optimizer"
   ]
  },
  {
   "cell_type": "code",
   "execution_count": 2,
   "id": "e07ddbb3-6845-4a9d-a0c3-9e37fd39464c",
   "metadata": {},
   "outputs": [],
   "source": [
    "def objective(trial):\n",
    "\n",
    "    #things the optimizer does...\n",
    "\n",
    "    pretrained = trial.suggest_categorical(\"pretrained\", [True, False])\n",
    "\n",
    "\n",
    "\n",
    "    \n",
    "    #value for tversky\n",
    "    alpha = trial.suggest_float(\"alpha\", 0.0, 1.0)\n",
    "    beta = trial.suggest_float(\"beta\", 0.0, 1.0)\n",
    "\n",
    "    loss_dict = {\n",
    "            \"cross_entropy\":CrossEntropyLossFlat(axis=1),\n",
    "            \"dice\":DiceLoss(reduction=\"mean\"),\n",
    "            \"tversky\":ModifiedTverskyLoss(reduction=\"mean\", beta=beta),\n",
    "            \"combo\":ComboLoss(alpha=alpha),\n",
    "            \"focal_dice\":FocalDiceLoss(alpha=alpha),\n",
    "            \"focal_tversky\":FocalTverskyLoss(reduction=\"mean\", alpha=alpha, beta=beta),\n",
    "            \"log_cosh_dice\":LogCoshDiceLoss(reduction=\"mean\"),\n",
    "            }\n",
    "    \n",
    "    loss_fn = trial.suggest_categorical(\"loss_fn\",\n",
    "                                        [\n",
    "                                        \"cross_entropy\",\n",
    "                                        \"dice\",\n",
    "                                        \"tversky\",\n",
    "                                        \"combo\",\n",
    "                                        \"focal_dice\",\n",
    "                                        \"focal_tversky\",\n",
    "                                        \"log_cosh_dice\",\n",
    "                                        ]\n",
    "                                       )\n",
    "                                       \n",
    "    \n",
    "    lr = trial.suggest_float(\"learning_rate\", 1e-5, 1e-2)\n",
    "\n",
    "    patch_dir = Path(f\"../data/{PATCH_SZ}_patches\")\n",
    "    path = patch_dir\n",
    "    codes = [\"Background\", \"NoDamage\", \"MinorDamage\", \"MajorDamage\", \"Destroyed\"]\n",
    "    \n",
    "    dls = SegmentationDataLoaders.from_label_func(path, bs=BATCH_SZ,\n",
    "        fnames = get_image_files(path/\"images\"), \n",
    "        label_func = lambda o: path/\"targets\"/f\"{o.stem}{o.suffix}\",                                     \n",
    "        codes = codes,\n",
    "        # batch_tfms=[*aug_transforms(size=(360,480)), Normalize.from_stats(*imagenet_stats)]\n",
    "        )\n",
    "\n",
    "    learn = unet_learner(\n",
    "        dls, \n",
    "        resnet18, \n",
    "        metrics=DiceMulti(axis=1),\n",
    "        self_attention=True, \n",
    "        act_cls=Mish,\n",
    "        loss_func = loss_dict[loss_fn],\n",
    "        pretrained=True,\n",
    "        n_out = len(codes) # set codes implicitly later\n",
    "    )\n",
    "\n",
    "    model_cbs = [\n",
    "    # EarlyStoppingCallback(monitor='valid_loss', min_delta=0.1, patience=2), # detect overfitting\n",
    "    # EarlyStoppingCallback(monitor='train_loss', min_delta=0.1, patience=3), # decect stalled training\n",
    "    # ActivationStats(with_hist=True)], # too slow\n",
    "    FastAIPruningCallback(trial, monitor=\"dice_multi\")\n",
    "    # set this to `train_loss` to purposely overfit?\n",
    "    # ! Optimizer may lose information on overfitting I need to look at... make sure to log everything.\n",
    "    # TRY USING FP.16!!\n",
    "    ]\n",
    "\n",
    "    # See https://forums.fast.ai/t/how-to-diable-progress-bar-completely/65249/3\n",
    "    # to disable progress bar and logging info.\n",
    "    with learn.no_bar():\n",
    "        with learn.no_logging():\n",
    "            learn.fine_tune(epochs=EPOCHS,\n",
    "                    base_lr=lr,\n",
    "                    freeze_epochs=FREEZE_EPOCHS,\n",
    "                    cbs=model_cbs\n",
    "                   )\n",
    "\n",
    "    return learn.recorder.metrics[0].value.item() # only one metric to worry about"
   ]
  },
  {
   "cell_type": "markdown",
   "id": "e41db72d-9025-41dd-8c11-f2cd3e31eb70",
   "metadata": {},
   "source": [
    "### Optimize"
   ]
  },
  {
   "cell_type": "code",
   "execution_count": 3,
   "id": "31bedf71-30ad-47e1-83ff-cec246bf4b8e",
   "metadata": {},
   "outputs": [
    {
     "name": "stderr",
     "output_type": "stream",
     "text": [
      "[I 2024-07-08 13:23:55,629] A new study created in memory with name: no-name-40a95b30-08b3-4e94-8120-e8e600052068\n",
      "[W 2024-07-08 13:23:55,631] Trial 0 failed with parameters: {'pretrained': False} because of the following error: UnboundLocalError(\"cannot access local variable 'beta' where it is not associated with a value\").\n",
      "Traceback (most recent call last):\n",
      "  File \"/home/dawson/.pyenv/versions/mambaforge/envs/fastai/lib/python3.11/site-packages/optuna/study/_optimize.py\", line 196, in _run_trial\n",
      "    value_or_values = func(trial)\n",
      "                      ^^^^^^^^^^^\n",
      "  File \"/tmp/ipykernel_89421/366076488.py\", line 10, in objective\n",
      "    \"tversky\":ModifiedTverskyLoss(reduction=\"mean\", beta=beta),\n",
      "                                                         ^^^^\n",
      "UnboundLocalError: cannot access local variable 'beta' where it is not associated with a value\n",
      "[W 2024-07-08 13:23:55,632] Trial 0 failed with value None.\n"
     ]
    },
    {
     "ename": "UnboundLocalError",
     "evalue": "cannot access local variable 'beta' where it is not associated with a value",
     "output_type": "error",
     "traceback": [
      "\u001b[0;31m---------------------------------------------------------------------------\u001b[0m",
      "\u001b[0;31mUnboundLocalError\u001b[0m                         Traceback (most recent call last)",
      "Cell \u001b[0;32mIn[3], line 2\u001b[0m\n\u001b[1;32m      1\u001b[0m study \u001b[38;5;241m=\u001b[39m optuna\u001b[38;5;241m.\u001b[39mcreate_study(direction\u001b[38;5;241m=\u001b[39m\u001b[38;5;124m\"\u001b[39m\u001b[38;5;124mmaximize\u001b[39m\u001b[38;5;124m\"\u001b[39m) \u001b[38;5;66;03m# use default pruner\u001b[39;00m\n\u001b[0;32m----> 2\u001b[0m \u001b[43mstudy\u001b[49m\u001b[38;5;241;43m.\u001b[39;49m\u001b[43moptimize\u001b[49m\u001b[43m(\u001b[49m\u001b[43mobjective\u001b[49m\u001b[43m,\u001b[49m\u001b[43m \u001b[49m\u001b[43mn_trials\u001b[49m\u001b[38;5;241;43m=\u001b[39;49m\u001b[43mNUM_TRIALS\u001b[49m\u001b[43m,\u001b[49m\u001b[43m \u001b[49m\u001b[43mtimeout\u001b[49m\u001b[38;5;241;43m=\u001b[39;49m\u001b[38;5;241;43m600\u001b[39;49m\u001b[43m)\u001b[49m\n",
      "File \u001b[0;32m~/.pyenv/versions/mambaforge/envs/fastai/lib/python3.11/site-packages/optuna/study/study.py:451\u001b[0m, in \u001b[0;36mStudy.optimize\u001b[0;34m(self, func, n_trials, timeout, n_jobs, catch, callbacks, gc_after_trial, show_progress_bar)\u001b[0m\n\u001b[1;32m    348\u001b[0m \u001b[38;5;28;01mdef\u001b[39;00m \u001b[38;5;21moptimize\u001b[39m(\n\u001b[1;32m    349\u001b[0m     \u001b[38;5;28mself\u001b[39m,\n\u001b[1;32m    350\u001b[0m     func: ObjectiveFuncType,\n\u001b[0;32m   (...)\u001b[0m\n\u001b[1;32m    357\u001b[0m     show_progress_bar: \u001b[38;5;28mbool\u001b[39m \u001b[38;5;241m=\u001b[39m \u001b[38;5;28;01mFalse\u001b[39;00m,\n\u001b[1;32m    358\u001b[0m ) \u001b[38;5;241m-\u001b[39m\u001b[38;5;241m>\u001b[39m \u001b[38;5;28;01mNone\u001b[39;00m:\n\u001b[1;32m    359\u001b[0m \u001b[38;5;250m    \u001b[39m\u001b[38;5;124;03m\"\"\"Optimize an objective function.\u001b[39;00m\n\u001b[1;32m    360\u001b[0m \n\u001b[1;32m    361\u001b[0m \u001b[38;5;124;03m    Optimization is done by choosing a suitable set of hyperparameter values from a given\u001b[39;00m\n\u001b[0;32m   (...)\u001b[0m\n\u001b[1;32m    449\u001b[0m \u001b[38;5;124;03m            If nested invocation of this method occurs.\u001b[39;00m\n\u001b[1;32m    450\u001b[0m \u001b[38;5;124;03m    \"\"\"\u001b[39;00m\n\u001b[0;32m--> 451\u001b[0m     \u001b[43m_optimize\u001b[49m\u001b[43m(\u001b[49m\n\u001b[1;32m    452\u001b[0m \u001b[43m        \u001b[49m\u001b[43mstudy\u001b[49m\u001b[38;5;241;43m=\u001b[39;49m\u001b[38;5;28;43mself\u001b[39;49m\u001b[43m,\u001b[49m\n\u001b[1;32m    453\u001b[0m \u001b[43m        \u001b[49m\u001b[43mfunc\u001b[49m\u001b[38;5;241;43m=\u001b[39;49m\u001b[43mfunc\u001b[49m\u001b[43m,\u001b[49m\n\u001b[1;32m    454\u001b[0m \u001b[43m        \u001b[49m\u001b[43mn_trials\u001b[49m\u001b[38;5;241;43m=\u001b[39;49m\u001b[43mn_trials\u001b[49m\u001b[43m,\u001b[49m\n\u001b[1;32m    455\u001b[0m \u001b[43m        \u001b[49m\u001b[43mtimeout\u001b[49m\u001b[38;5;241;43m=\u001b[39;49m\u001b[43mtimeout\u001b[49m\u001b[43m,\u001b[49m\n\u001b[1;32m    456\u001b[0m \u001b[43m        \u001b[49m\u001b[43mn_jobs\u001b[49m\u001b[38;5;241;43m=\u001b[39;49m\u001b[43mn_jobs\u001b[49m\u001b[43m,\u001b[49m\n\u001b[1;32m    457\u001b[0m \u001b[43m        \u001b[49m\u001b[43mcatch\u001b[49m\u001b[38;5;241;43m=\u001b[39;49m\u001b[38;5;28;43mtuple\u001b[39;49m\u001b[43m(\u001b[49m\u001b[43mcatch\u001b[49m\u001b[43m)\u001b[49m\u001b[43m \u001b[49m\u001b[38;5;28;43;01mif\u001b[39;49;00m\u001b[43m \u001b[49m\u001b[38;5;28;43misinstance\u001b[39;49m\u001b[43m(\u001b[49m\u001b[43mcatch\u001b[49m\u001b[43m,\u001b[49m\u001b[43m \u001b[49m\u001b[43mIterable\u001b[49m\u001b[43m)\u001b[49m\u001b[43m \u001b[49m\u001b[38;5;28;43;01melse\u001b[39;49;00m\u001b[43m \u001b[49m\u001b[43m(\u001b[49m\u001b[43mcatch\u001b[49m\u001b[43m,\u001b[49m\u001b[43m)\u001b[49m\u001b[43m,\u001b[49m\n\u001b[1;32m    458\u001b[0m \u001b[43m        \u001b[49m\u001b[43mcallbacks\u001b[49m\u001b[38;5;241;43m=\u001b[39;49m\u001b[43mcallbacks\u001b[49m\u001b[43m,\u001b[49m\n\u001b[1;32m    459\u001b[0m \u001b[43m        \u001b[49m\u001b[43mgc_after_trial\u001b[49m\u001b[38;5;241;43m=\u001b[39;49m\u001b[43mgc_after_trial\u001b[49m\u001b[43m,\u001b[49m\n\u001b[1;32m    460\u001b[0m \u001b[43m        \u001b[49m\u001b[43mshow_progress_bar\u001b[49m\u001b[38;5;241;43m=\u001b[39;49m\u001b[43mshow_progress_bar\u001b[49m\u001b[43m,\u001b[49m\n\u001b[1;32m    461\u001b[0m \u001b[43m    \u001b[49m\u001b[43m)\u001b[49m\n",
      "File \u001b[0;32m~/.pyenv/versions/mambaforge/envs/fastai/lib/python3.11/site-packages/optuna/study/_optimize.py:62\u001b[0m, in \u001b[0;36m_optimize\u001b[0;34m(study, func, n_trials, timeout, n_jobs, catch, callbacks, gc_after_trial, show_progress_bar)\u001b[0m\n\u001b[1;32m     60\u001b[0m \u001b[38;5;28;01mtry\u001b[39;00m:\n\u001b[1;32m     61\u001b[0m     \u001b[38;5;28;01mif\u001b[39;00m n_jobs \u001b[38;5;241m==\u001b[39m \u001b[38;5;241m1\u001b[39m:\n\u001b[0;32m---> 62\u001b[0m         \u001b[43m_optimize_sequential\u001b[49m\u001b[43m(\u001b[49m\n\u001b[1;32m     63\u001b[0m \u001b[43m            \u001b[49m\u001b[43mstudy\u001b[49m\u001b[43m,\u001b[49m\n\u001b[1;32m     64\u001b[0m \u001b[43m            \u001b[49m\u001b[43mfunc\u001b[49m\u001b[43m,\u001b[49m\n\u001b[1;32m     65\u001b[0m \u001b[43m            \u001b[49m\u001b[43mn_trials\u001b[49m\u001b[43m,\u001b[49m\n\u001b[1;32m     66\u001b[0m \u001b[43m            \u001b[49m\u001b[43mtimeout\u001b[49m\u001b[43m,\u001b[49m\n\u001b[1;32m     67\u001b[0m \u001b[43m            \u001b[49m\u001b[43mcatch\u001b[49m\u001b[43m,\u001b[49m\n\u001b[1;32m     68\u001b[0m \u001b[43m            \u001b[49m\u001b[43mcallbacks\u001b[49m\u001b[43m,\u001b[49m\n\u001b[1;32m     69\u001b[0m \u001b[43m            \u001b[49m\u001b[43mgc_after_trial\u001b[49m\u001b[43m,\u001b[49m\n\u001b[1;32m     70\u001b[0m \u001b[43m            \u001b[49m\u001b[43mreseed_sampler_rng\u001b[49m\u001b[38;5;241;43m=\u001b[39;49m\u001b[38;5;28;43;01mFalse\u001b[39;49;00m\u001b[43m,\u001b[49m\n\u001b[1;32m     71\u001b[0m \u001b[43m            \u001b[49m\u001b[43mtime_start\u001b[49m\u001b[38;5;241;43m=\u001b[39;49m\u001b[38;5;28;43;01mNone\u001b[39;49;00m\u001b[43m,\u001b[49m\n\u001b[1;32m     72\u001b[0m \u001b[43m            \u001b[49m\u001b[43mprogress_bar\u001b[49m\u001b[38;5;241;43m=\u001b[39;49m\u001b[43mprogress_bar\u001b[49m\u001b[43m,\u001b[49m\n\u001b[1;32m     73\u001b[0m \u001b[43m        \u001b[49m\u001b[43m)\u001b[49m\n\u001b[1;32m     74\u001b[0m     \u001b[38;5;28;01melse\u001b[39;00m:\n\u001b[1;32m     75\u001b[0m         \u001b[38;5;28;01mif\u001b[39;00m n_jobs \u001b[38;5;241m==\u001b[39m \u001b[38;5;241m-\u001b[39m\u001b[38;5;241m1\u001b[39m:\n",
      "File \u001b[0;32m~/.pyenv/versions/mambaforge/envs/fastai/lib/python3.11/site-packages/optuna/study/_optimize.py:159\u001b[0m, in \u001b[0;36m_optimize_sequential\u001b[0;34m(study, func, n_trials, timeout, catch, callbacks, gc_after_trial, reseed_sampler_rng, time_start, progress_bar)\u001b[0m\n\u001b[1;32m    156\u001b[0m         \u001b[38;5;28;01mbreak\u001b[39;00m\n\u001b[1;32m    158\u001b[0m \u001b[38;5;28;01mtry\u001b[39;00m:\n\u001b[0;32m--> 159\u001b[0m     frozen_trial \u001b[38;5;241m=\u001b[39m \u001b[43m_run_trial\u001b[49m\u001b[43m(\u001b[49m\u001b[43mstudy\u001b[49m\u001b[43m,\u001b[49m\u001b[43m \u001b[49m\u001b[43mfunc\u001b[49m\u001b[43m,\u001b[49m\u001b[43m \u001b[49m\u001b[43mcatch\u001b[49m\u001b[43m)\u001b[49m\n\u001b[1;32m    160\u001b[0m \u001b[38;5;28;01mfinally\u001b[39;00m:\n\u001b[1;32m    161\u001b[0m     \u001b[38;5;66;03m# The following line mitigates memory problems that can be occurred in some\u001b[39;00m\n\u001b[1;32m    162\u001b[0m     \u001b[38;5;66;03m# environments (e.g., services that use computing containers such as GitHub Actions).\u001b[39;00m\n\u001b[1;32m    163\u001b[0m     \u001b[38;5;66;03m# Please refer to the following PR for further details:\u001b[39;00m\n\u001b[1;32m    164\u001b[0m     \u001b[38;5;66;03m# https://github.com/optuna/optuna/pull/325.\u001b[39;00m\n\u001b[1;32m    165\u001b[0m     \u001b[38;5;28;01mif\u001b[39;00m gc_after_trial:\n",
      "File \u001b[0;32m~/.pyenv/versions/mambaforge/envs/fastai/lib/python3.11/site-packages/optuna/study/_optimize.py:247\u001b[0m, in \u001b[0;36m_run_trial\u001b[0;34m(study, func, catch)\u001b[0m\n\u001b[1;32m    240\u001b[0m         \u001b[38;5;28;01massert\u001b[39;00m \u001b[38;5;28;01mFalse\u001b[39;00m, \u001b[38;5;124m\"\u001b[39m\u001b[38;5;124mShould not reach.\u001b[39m\u001b[38;5;124m\"\u001b[39m\n\u001b[1;32m    242\u001b[0m \u001b[38;5;28;01mif\u001b[39;00m (\n\u001b[1;32m    243\u001b[0m     frozen_trial\u001b[38;5;241m.\u001b[39mstate \u001b[38;5;241m==\u001b[39m TrialState\u001b[38;5;241m.\u001b[39mFAIL\n\u001b[1;32m    244\u001b[0m     \u001b[38;5;129;01mand\u001b[39;00m func_err \u001b[38;5;129;01mis\u001b[39;00m \u001b[38;5;129;01mnot\u001b[39;00m \u001b[38;5;28;01mNone\u001b[39;00m\n\u001b[1;32m    245\u001b[0m     \u001b[38;5;129;01mand\u001b[39;00m \u001b[38;5;129;01mnot\u001b[39;00m \u001b[38;5;28misinstance\u001b[39m(func_err, catch)\n\u001b[1;32m    246\u001b[0m ):\n\u001b[0;32m--> 247\u001b[0m     \u001b[38;5;28;01mraise\u001b[39;00m func_err\n\u001b[1;32m    248\u001b[0m \u001b[38;5;28;01mreturn\u001b[39;00m frozen_trial\n",
      "File \u001b[0;32m~/.pyenv/versions/mambaforge/envs/fastai/lib/python3.11/site-packages/optuna/study/_optimize.py:196\u001b[0m, in \u001b[0;36m_run_trial\u001b[0;34m(study, func, catch)\u001b[0m\n\u001b[1;32m    194\u001b[0m \u001b[38;5;28;01mwith\u001b[39;00m get_heartbeat_thread(trial\u001b[38;5;241m.\u001b[39m_trial_id, study\u001b[38;5;241m.\u001b[39m_storage):\n\u001b[1;32m    195\u001b[0m     \u001b[38;5;28;01mtry\u001b[39;00m:\n\u001b[0;32m--> 196\u001b[0m         value_or_values \u001b[38;5;241m=\u001b[39m \u001b[43mfunc\u001b[49m\u001b[43m(\u001b[49m\u001b[43mtrial\u001b[49m\u001b[43m)\u001b[49m\n\u001b[1;32m    197\u001b[0m     \u001b[38;5;28;01mexcept\u001b[39;00m exceptions\u001b[38;5;241m.\u001b[39mTrialPruned \u001b[38;5;28;01mas\u001b[39;00m e:\n\u001b[1;32m    198\u001b[0m         \u001b[38;5;66;03m# TODO(mamu): Handle multi-objective cases.\u001b[39;00m\n\u001b[1;32m    199\u001b[0m         state \u001b[38;5;241m=\u001b[39m TrialState\u001b[38;5;241m.\u001b[39mPRUNED\n",
      "Cell \u001b[0;32mIn[2], line 10\u001b[0m, in \u001b[0;36mobjective\u001b[0;34m(trial)\u001b[0m\n\u001b[1;32m      1\u001b[0m \u001b[38;5;28;01mdef\u001b[39;00m \u001b[38;5;21mobjective\u001b[39m(trial):\n\u001b[1;32m      2\u001b[0m \n\u001b[1;32m      3\u001b[0m     \u001b[38;5;66;03m#things the optimizer does...\u001b[39;00m\n\u001b[1;32m      5\u001b[0m     pretrained \u001b[38;5;241m=\u001b[39m trial\u001b[38;5;241m.\u001b[39msuggest_categorical(\u001b[38;5;124m\"\u001b[39m\u001b[38;5;124mpretrained\u001b[39m\u001b[38;5;124m\"\u001b[39m, [\u001b[38;5;28;01mTrue\u001b[39;00m, \u001b[38;5;28;01mFalse\u001b[39;00m])\n\u001b[1;32m      7\u001b[0m     loss_dict \u001b[38;5;241m=\u001b[39m {\n\u001b[1;32m      8\u001b[0m                 \u001b[38;5;124m\"\u001b[39m\u001b[38;5;124mcross_entropy\u001b[39m\u001b[38;5;124m\"\u001b[39m:CrossEntropyLossFlat(axis\u001b[38;5;241m=\u001b[39m\u001b[38;5;241m1\u001b[39m),\n\u001b[1;32m      9\u001b[0m                 \u001b[38;5;124m\"\u001b[39m\u001b[38;5;124mdice\u001b[39m\u001b[38;5;124m\"\u001b[39m:DiceLoss(reduction\u001b[38;5;241m=\u001b[39m\u001b[38;5;124m\"\u001b[39m\u001b[38;5;124mmean\u001b[39m\u001b[38;5;124m\"\u001b[39m),\n\u001b[0;32m---> 10\u001b[0m                 \u001b[38;5;124m\"\u001b[39m\u001b[38;5;124mtversky\u001b[39m\u001b[38;5;124m\"\u001b[39m:ModifiedTverskyLoss(reduction\u001b[38;5;241m=\u001b[39m\u001b[38;5;124m\"\u001b[39m\u001b[38;5;124mmean\u001b[39m\u001b[38;5;124m\"\u001b[39m, beta\u001b[38;5;241m=\u001b[39m\u001b[43mbeta\u001b[49m),\n\u001b[1;32m     11\u001b[0m                 \u001b[38;5;124m\"\u001b[39m\u001b[38;5;124mcombo\u001b[39m\u001b[38;5;124m\"\u001b[39m:ComboLoss(alpha\u001b[38;5;241m=\u001b[39malpha),\n\u001b[1;32m     12\u001b[0m                 \u001b[38;5;124m\"\u001b[39m\u001b[38;5;124mfocal_dice\u001b[39m\u001b[38;5;124m\"\u001b[39m:FocalDiceLoss(alpha\u001b[38;5;241m=\u001b[39malpha),\n\u001b[1;32m     13\u001b[0m                 \u001b[38;5;124m\"\u001b[39m\u001b[38;5;124mfocal_tversky\u001b[39m\u001b[38;5;124m\"\u001b[39m:FocalTverskyLoss(reduction\u001b[38;5;241m=\u001b[39m\u001b[38;5;124m\"\u001b[39m\u001b[38;5;124mmean\u001b[39m\u001b[38;5;124m\"\u001b[39m, alpha\u001b[38;5;241m=\u001b[39malpha, beta\u001b[38;5;241m=\u001b[39mbeta),\n\u001b[1;32m     14\u001b[0m                 \u001b[38;5;124m\"\u001b[39m\u001b[38;5;124mlog_cosh_dice\u001b[39m\u001b[38;5;124m\"\u001b[39m:LogCoshDiceLoss(reduction\u001b[38;5;241m=\u001b[39m\u001b[38;5;124m\"\u001b[39m\u001b[38;5;124mmean\u001b[39m\u001b[38;5;124m\"\u001b[39m),\n\u001b[1;32m     15\u001b[0m                 }\n\u001b[1;32m     18\u001b[0m     \u001b[38;5;66;03m#value for tversky\u001b[39;00m\n\u001b[1;32m     19\u001b[0m     alpha \u001b[38;5;241m=\u001b[39m trial\u001b[38;5;241m.\u001b[39msuggest_float(\u001b[38;5;124m\"\u001b[39m\u001b[38;5;124malpha\u001b[39m\u001b[38;5;124m\"\u001b[39m, \u001b[38;5;241m0.0\u001b[39m, \u001b[38;5;241m1.0\u001b[39m)\n",
      "\u001b[0;31mUnboundLocalError\u001b[0m: cannot access local variable 'beta' where it is not associated with a value"
     ]
    }
   ],
   "source": [
    "study = optuna.create_study(direction=\"maximize\") # use default pruner\n",
    "study.optimize(objective, n_trials=NUM_TRIALS, timeout=600)"
   ]
  },
  {
   "cell_type": "code",
   "execution_count": null,
   "id": "baa91fd7-10d2-4a20-8bef-c5ff204c89ea",
   "metadata": {},
   "outputs": [],
   "source": [
    "# print a bunch of junk\n",
    "\n",
    "print(\"Number of finished trials: {}\".format(len(study.trials)))\n",
    "\n",
    "print(\"Best trial:\")\n",
    "trial = study.best_trial\n",
    "\n",
    "print(\"  Value: {}\".format(trial.value))\n",
    "\n",
    "print(\"  Params: \")\n",
    "for key, value in trial.params.items():\n",
    "    print(\"    {}: {}\".format(key, value))"
   ]
  }
 ],
 "metadata": {
  "kernelspec": {
   "display_name": "Python 3 (ipykernel)",
   "language": "python",
   "name": "python3"
  },
  "language_info": {
   "codemirror_mode": {
    "name": "ipython",
    "version": 3
   },
   "file_extension": ".py",
   "mimetype": "text/x-python",
   "name": "python",
   "nbconvert_exporter": "python",
   "pygments_lexer": "ipython3",
   "version": "3.11.9"
  }
 },
 "nbformat": 4,
 "nbformat_minor": 5
}
