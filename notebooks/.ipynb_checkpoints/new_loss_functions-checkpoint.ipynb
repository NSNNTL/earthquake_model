{
 "cells": [
  {
   "cell_type": "code",
   "execution_count": 19,
   "id": "82d03756-866e-4f8d-95e3-e9b310daf0f6",
   "metadata": {},
   "outputs": [],
   "source": [
    "import torch\n",
    "from fastai.data.all import *\n",
    "from fastai.vision.all import *\n",
    "from patchify import patchify\n",
    "from PIL import Image\n",
    "import optuna\n",
    "from optuna.integration import FastAIPruningCallback\n",
    "import optuna.visualization as vs\n",
    "\n",
    "# NON-OPTIMIZED HYPERPARAMS (cause my GPU can't handle it :P)\n",
    "# batch size\n",
    "BATCH_SZ = 8 # has to be small since it's a unet\n",
    "# patch size\n",
    "PATCH_SZ = 256 # must be a multiple of the image size, obviously. This is appropriate for BATCH_SZ.\n",
    "\n",
    "# Set these low for testing hyper-optimizer setup. May be hyperparams later.\n",
    "FREEZE_EPOCHS = 1\n",
    "EPOCHS = 2\n",
    "NUM_TRIALS = 2\n"
   ]
  },
  {
   "cell_type": "code",
   "execution_count": 10,
   "id": "88b16195-1c35-4334-8397-49cd2b916fd1",
   "metadata": {},
   "outputs": [],
   "source": [
    "base_path = Path(\"../data/\")\n",
    "data_dir = base_path/\"full\"/\"post-disaster\"\n",
    "patch_dir = base_path/f\"{PATCH_SZ}_patches\"\n",
    "\n",
    "path = patch_dir\n",
    "\n",
    "\n",
    "codes = [\"Background\", \"NoDamage\", \"MinorDamage\", \"MajorDamage\", \"Destroyed\"]\n",
    "\n",
    "dls = SegmentationDataLoaders.from_label_func(path, bs=BATCH_SZ,\n",
    "        fnames = get_image_files(path/\"images\"), \n",
    "        label_func = lambda o: path/\"targets\"/f\"{o.stem}{o.suffix}\",                                     \n",
    "        codes = codes)"
   ]
  },
  {
   "cell_type": "code",
   "execution_count": 17,
   "id": "9a85892b-8b7e-4e9a-9249-7089e59ab159",
   "metadata": {},
   "outputs": [],
   "source": [
    "def train(loss_fn):\n",
    "    learner = unet_learner(\n",
    "            dls, \n",
    "            resnet18, \n",
    "            metrics=DiceMulti(axis=1),\n",
    "            self_attention=True, \n",
    "            act_cls=Mish,\n",
    "            loss_func = loss_fn,\n",
    "            pretrained=True,\n",
    "            n_out = len(codes) # set codes implicitly later\n",
    "    )\n",
    "    lr = learner.lr_find()[0]\n",
    "    learner.fine_tune(epochs=EPOCHS,\n",
    "                        base_lr=lr,\n",
    "                        freeze_epochs=FREEZE_EPOCHS\n",
    "                       )\n",
    "\n",
    "    # return some kind of record of training!!"
   ]
  },
  {
   "cell_type": "code",
   "execution_count": 18,
   "id": "679938d9-7122-4159-ab4b-a2cd7adbcda9",
   "metadata": {},
   "outputs": [
    {
     "data": {
      "text/html": [
       "\n",
       "<style>\n",
       "    /* Turns off some styling */\n",
       "    progress {\n",
       "        /* gets rid of default border in Firefox and Opera. */\n",
       "        border: none;\n",
       "        /* Needs to be in here for Safari polyfill so background images work as expected. */\n",
       "        background-size: auto;\n",
       "    }\n",
       "    progress:not([value]), progress:not([value])::-webkit-progress-bar {\n",
       "        background: repeating-linear-gradient(45deg, #7e7e7e, #7e7e7e 10px, #5c5c5c 10px, #5c5c5c 20px);\n",
       "    }\n",
       "    .progress-bar-interrupted, .progress-bar-interrupted::-webkit-progress-bar {\n",
       "        background: #F44336;\n",
       "    }\n",
       "</style>\n"
      ],
      "text/plain": [
       "<IPython.core.display.HTML object>"
      ]
     },
     "metadata": {},
     "output_type": "display_data"
    },
    {
     "data": {
      "text/html": [],
      "text/plain": [
       "<IPython.core.display.HTML object>"
      ]
     },
     "metadata": {},
     "output_type": "display_data"
    },
    {
     "data": {
      "text/html": [
       "\n",
       "<style>\n",
       "    /* Turns off some styling */\n",
       "    progress {\n",
       "        /* gets rid of default border in Firefox and Opera. */\n",
       "        border: none;\n",
       "        /* Needs to be in here for Safari polyfill so background images work as expected. */\n",
       "        background-size: auto;\n",
       "    }\n",
       "    progress:not([value]), progress:not([value])::-webkit-progress-bar {\n",
       "        background: repeating-linear-gradient(45deg, #7e7e7e, #7e7e7e 10px, #5c5c5c 10px, #5c5c5c 20px);\n",
       "    }\n",
       "    .progress-bar-interrupted, .progress-bar-interrupted::-webkit-progress-bar {\n",
       "        background: #F44336;\n",
       "    }\n",
       "</style>\n"
      ],
      "text/plain": [
       "<IPython.core.display.HTML object>"
      ]
     },
     "metadata": {},
     "output_type": "display_data"
    },
    {
     "data": {
      "text/html": [
       "<table border=\"1\" class=\"dataframe\">\n",
       "  <thead>\n",
       "    <tr style=\"text-align: left;\">\n",
       "      <th>epoch</th>\n",
       "      <th>train_loss</th>\n",
       "      <th>valid_loss</th>\n",
       "      <th>dice_multi</th>\n",
       "      <th>time</th>\n",
       "    </tr>\n",
       "  </thead>\n",
       "  <tbody>\n",
       "    <tr>\n",
       "      <td>0</td>\n",
       "      <td>11.809182</td>\n",
       "      <td>8.692778</td>\n",
       "      <td>0.168002</td>\n",
       "      <td>01:38</td>\n",
       "    </tr>\n",
       "  </tbody>\n",
       "</table>"
      ],
      "text/plain": [
       "<IPython.core.display.HTML object>"
      ]
     },
     "metadata": {},
     "output_type": "display_data"
    },
    {
     "data": {
      "text/html": [
       "\n",
       "<style>\n",
       "    /* Turns off some styling */\n",
       "    progress {\n",
       "        /* gets rid of default border in Firefox and Opera. */\n",
       "        border: none;\n",
       "        /* Needs to be in here for Safari polyfill so background images work as expected. */\n",
       "        background-size: auto;\n",
       "    }\n",
       "    progress:not([value]), progress:not([value])::-webkit-progress-bar {\n",
       "        background: repeating-linear-gradient(45deg, #7e7e7e, #7e7e7e 10px, #5c5c5c 10px, #5c5c5c 20px);\n",
       "    }\n",
       "    .progress-bar-interrupted, .progress-bar-interrupted::-webkit-progress-bar {\n",
       "        background: #F44336;\n",
       "    }\n",
       "</style>\n"
      ],
      "text/plain": [
       "<IPython.core.display.HTML object>"
      ]
     },
     "metadata": {},
     "output_type": "display_data"
    },
    {
     "data": {
      "text/html": [
       "<table border=\"1\" class=\"dataframe\">\n",
       "  <thead>\n",
       "    <tr style=\"text-align: left;\">\n",
       "      <th>epoch</th>\n",
       "      <th>train_loss</th>\n",
       "      <th>valid_loss</th>\n",
       "      <th>dice_multi</th>\n",
       "      <th>time</th>\n",
       "    </tr>\n",
       "  </thead>\n",
       "  <tbody>\n",
       "    <tr>\n",
       "      <td>0</td>\n",
       "      <td>8.388844</td>\n",
       "      <td>8.692778</td>\n",
       "      <td>0.168002</td>\n",
       "      <td>01:39</td>\n",
       "    </tr>\n",
       "    <tr>\n",
       "      <td>1</td>\n",
       "      <td>8.542876</td>\n",
       "      <td>8.692778</td>\n",
       "      <td>0.168002</td>\n",
       "      <td>01:39</td>\n",
       "    </tr>\n",
       "  </tbody>\n",
       "</table>"
      ],
      "text/plain": [
       "<IPython.core.display.HTML object>"
      ]
     },
     "metadata": {},
     "output_type": "display_data"
    },
    {
     "data": {
      "image/png": "[encoded data removed]",
      "text/plain": [
       "<Figure size 640x480 with 1 Axes>"
      ]
     },
     "metadata": {},
     "output_type": "display_data"
    }
   ],
   "source": [
    "train(DiceLoss())"
   ]
  },
  {
   "cell_type": "code",
   "execution_count": null,
   "id": "69687a77-7b63-400d-a243-95537ebfbc1f",
   "metadata": {},
   "outputs": [],
   "source": []
  }
 ],
 "metadata": {
  "kernelspec": {
   "display_name": "Python 3 (ipykernel)",
   "language": "python",
   "name": "python3"
  },
  "language_info": {
   "codemirror_mode": {
    "name": "ipython",
    "version": 3
   },
   "file_extension": ".py",
   "mimetype": "text/x-python",
   "name": "python",
   "nbconvert_exporter": "python",
   "pygments_lexer": "ipython3",
   "version": "3.11.9"
  }
 },
 "nbformat": 4,
 "nbformat_minor": 5
}
