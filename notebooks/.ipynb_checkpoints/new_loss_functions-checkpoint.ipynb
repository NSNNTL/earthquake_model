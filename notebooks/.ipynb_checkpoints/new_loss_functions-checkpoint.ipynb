{
 "cells": [
  {
   "cell_type": "markdown",
   "id": "bdfa716a-f1b3-427e-afbd-d2c5517d0794",
   "metadata": {},
   "source": [
    "# A Plug-and-Play Suite of Loss Functions for Semantic Segmentation with FastAI\n",
    "#### TODO- make a pip pipy package..."
   ]
  },
  {
   "cell_type": "code",
   "execution_count": 1,
   "id": "3426e6ee-3d77-415a-800e-d03b55ce5ea4",
   "metadata": {},
   "outputs": [],
   "source": [
    "#| default_exp extra_losses"
   ]
  },
  {
   "cell_type": "code",
   "execution_count": 2,
   "id": "82d03756-866e-4f8d-95e3-e9b310daf0f6",
   "metadata": {},
   "outputs": [],
   "source": [
    "#| export\n",
    "import torch\n",
    "from fastai.data.all import *\n",
    "from fastai.vision.all import *\n",
    "import fastcore.test as fasttest"
   ]
  },
  {
   "cell_type": "code",
   "execution_count": 3,
   "id": "7c721efb-b31d-4ca3-8d76-d4a248b7c6db",
   "metadata": {},
   "outputs": [],
   "source": [
    "#|hide\n",
    "from nbdev.showdoc import *"
   ]
  },
  {
   "cell_type": "markdown",
   "id": "4a53a6f4-1f0f-44bd-91f0-8c4253fc9e5b",
   "metadata": {},
   "source": [
    "## Loss Functions (!!! The model has NO softmax !!! You must provide your own in the loss fn)\n"
   ]
  },
  {
   "cell_type": "markdown",
   "id": "be89155c-d237-47e2-9844-91c804ad0eac",
   "metadata": {},
   "source": [
    "### New Loss Functions"
   ]
  },
  {
   "cell_type": "code",
   "execution_count": 4,
   "id": "bd947b70-87b6-4b96-a70d-134824804695",
   "metadata": {
    "editable": true,
    "slideshow": {
     "slide_type": ""
    },
    "tags": []
   },
   "outputs": [],
   "source": [
    "#| export\n",
    "class ModifiedTverskyLoss:\n",
    "    \"\"\"\n",
    "    Modified Tversky Loss\n",
    "    proposed in https://arxiv.org/abs/1706.05721\n",
    "    based on FastAI's dice loss implementation\n",
    "    Beta of 0.5 should equal dice loss exactly,\n",
    "    but fastai's inbuilt dice is preferred because it requires less computation.\n",
    "    Modified to be analytically equal to dice, even with smoothing\n",
    "    \"\"\"\n",
    "    def __init__(self, \n",
    "        axis:int=1, # Class axis\n",
    "        smooth:float=1e-6, # Helps with numerical stabilities in the IoU division\n",
    "        reduction:str=\"sum\", # PyTorch reduction to apply to the output\n",
    "        beta = 0.5 # makes dice by default...\n",
    "    ):\n",
    "        store_attr()\n",
    "        \n",
    "    def __call__(self, pred:Tensor, targ:Tensor) -> Tensor:\n",
    "        \"\"\"One-hot encodes targ, then takes tversky index\"\"\"\n",
    "        targ = self._one_hot(targ, pred.shape[self.axis])\n",
    "        pred, targ = TensorBase(pred), TensorBase(targ)\n",
    "        assert pred.shape == targ.shape, 'input and target dimensions differ, Tversky expects non one-hot targs'\n",
    "        pred = self.activation(pred)\n",
    "        sum_dims = list(range(2, len(pred.shape)))\n",
    "        #set operations\n",
    "        inter = torch.sum(pred*targ, dim=sum_dims)\n",
    "        pred_not_in_targ = torch.sum((1-targ)*pred, dim=sum_dims) # relative complements\n",
    "        targ_not_in_pred = torch.sum((1-pred)*targ, dim=sum_dims)\n",
    "        # calculate index\n",
    "        num = inter\n",
    "        denom = inter + self.beta*pred_not_in_targ + (1-self.beta)*targ_not_in_pred #TODO check for reversing...\n",
    "        tversky_index = (num + (self.smooth/2))/(denom + (self.smooth/2))\n",
    "        #get loss\n",
    "        loss = 1 - tversky_index\n",
    "        if self.reduction == 'mean':\n",
    "            loss = loss.mean()\n",
    "        elif self.reduction == 'sum':\n",
    "            loss = loss.sum()\n",
    "        return loss\n",
    "    @staticmethod\n",
    "    def _one_hot(\n",
    "        x:Tensor, # Non one-hot encoded targs\n",
    "        classes:int, # The number of classes \n",
    "        axis:int=1 # The axis to stack for encoding (class dimension)\n",
    "    ) -> Tensor:\n",
    "        \"\"\"Creates one binary mask per class\"\"\"\n",
    "        return torch.stack([torch.where(x==c, 1, 0) for c in range(classes)], axis=axis)\n",
    "    \n",
    "    def activation(self, x:Tensor) -> Tensor: \n",
    "        \"\"\"Activation function applied to model output\"\"\"\n",
    "        return F.softmax(x, dim=self.axis)\n",
    "    \n",
    "    def decodes(self, x:Tensor) -> Tensor:\n",
    "        \"\"\"Converts model output to target format\"\"\"\n",
    "        return x.argmax(dim=self.axis)"
   ]
  },
  {
   "cell_type": "code",
   "execution_count": 5,
   "id": "93c6f00e-4a24-4bef-aa14-92ba1e7c8d8a",
   "metadata": {},
   "outputs": [],
   "source": [
    "#| hide\n",
    "# https://arxiv.org/pdf/1705.08790\n",
    "#Lovaz Loss\n",
    "# https://www.kaggle.com/c/tgs-salt-identification-challenge/discussion/67791"
   ]
  },
  {
   "cell_type": "markdown",
   "id": "f50200a3-25e7-4d42-a834-024838287979",
   "metadata": {},
   "source": [
    "### Loss Classes"
   ]
  },
  {
   "cell_type": "code",
   "execution_count": 6,
   "id": "c935ff20-f6ba-4942-b05d-b7ce2f45c099",
   "metadata": {},
   "outputs": [],
   "source": [
    "#| hide\n",
    "class SimpleDiceLoss:\n",
    "    \"\"\"\n",
    "    A wrapper around fastai's Dice Loss.\n",
    "    Proposed in [SOURCE]\n",
    "    \"\"\"\n",
    "    def __init__(self, axis=1, smooth=1.):\n",
    "        store_attr()\n",
    "        self.dice_loss =  DiceLoss(axis, smooth, reduction=\"sum\")\n",
    "        \n",
    "    def __call__(self, pred, targ):\n",
    "        return self.dice_loss(pred, targ)\n",
    "    \n",
    "    def decodes(self, x):    return x.argmax(dim=self.axis)\n",
    "    def activation(self, x): return F.softmax(x, dim=self.axis)\n",
    "    # This works because fastai yoinks it using getcallable, a wrapper for getattr\n",
    "    # only the definition inside the outer class actually used matters!"
   ]
  },
  {
   "cell_type": "code",
   "execution_count": 7,
   "id": "7187956f-61c7-4249-853d-30fccf74b056",
   "metadata": {},
   "outputs": [],
   "source": [
    "#| export\n",
    "class ComboLoss: \n",
    "    \"\"\"\n",
    "    Dice and Cross Entropy Loss combined\n",
    "    Proposed in [SOURCE]\n",
    "    \"\"\"\n",
    "    def __init__(self, axis=1, smooth=1., alpha=1.):\n",
    "        store_attr()\n",
    "        self.ce_loss = CrossEntropyLossFlat(axis=axis)\n",
    "        self.dice_loss =  DiceLoss(axis, smooth, reduction=\"sum\")\n",
    "        \n",
    "    def __call__(self, pred, targ):\n",
    "        return alpha * self.ce_loss(pred, targ) + (1-alpha)*self.dice_loss(pred, targ)\n",
    "    \n",
    "    def decodes(self, x):    return x.argmax(dim=self.axis)\n",
    "    def activation(self, x): return F.softmax(x, dim=self.axis)"
   ]
  },
  {
   "cell_type": "code",
   "execution_count": 8,
   "id": "6c26b57a-5655-4188-bee8-61699485de41",
   "metadata": {
    "scrolled": true
   },
   "outputs": [],
   "source": [
    "#| export\n",
    "class FocalDiceLoss: # example class building on dice loss\n",
    "    \"\"\"\n",
    "    Dice and Focal Loss combined\n",
    "    proposed in [SOURCE]\n",
    "    \"\"\"\n",
    "    def __init__(self, axis=1, smooth=1., alpha=1.):\n",
    "        store_attr()\n",
    "        self.focal_loss = FocalLossFlat(axis=axis)\n",
    "        self.dice_loss =  DiceLoss(axis, smooth, reduction=\"sum\")\n",
    "        \n",
    "    def __call__(self, pred, targ):\n",
    "        return self.focal_loss(pred, targ) + self.alpha * self.dice_loss(pred, targ)\n",
    "    \n",
    "    def decodes(self, x):    return x.argmax(dim=self.axis)\n",
    "    def activation(self, x): return F.softmax(x, dim=self.axis)"
   ]
  },
  {
   "cell_type": "code",
   "execution_count": 9,
   "id": "64603f7a-1352-4c77-a1ac-7c9d8aef069e",
   "metadata": {},
   "outputs": [],
   "source": [
    "#| export\n",
    "class FocalTverskyLoss: # TODO-- use the one in the paper!\n",
    "    \"\"\"\n",
    "    Tversky and Focal Loss combined\n",
    "    proposed in [SOURCE]\n",
    "    Fundementally different from FocalDiceLoss?? (we shall see)\n",
    "    \"\"\"\n",
    "    def __init__(self, axis=1, smooth=1., alpha=1., beta=0.5):\n",
    "        store_attr()\n",
    "        self.focal_loss = FocalLossFlat(axis=axis)\n",
    "        self.tversky_loss =  ModifiedTverskyLoss(axis, smooth, reduction=\"sum\")#, beta=beta) #TODO-- fix param passing\n",
    "        \n",
    "    def __call__(self, pred, targ):\n",
    "        return self.focal_loss(pred, targ) + self.alpha * self.tversky_loss(pred, targ)\n",
    "    \n",
    "    def decodes(self, x):    return x.argmax(dim=self.axis)\n",
    "    def activation(self, x): return F.softmax(x, dim=self.axis)"
   ]
  },
  {
   "cell_type": "code",
   "execution_count": 10,
   "id": "78a28b63-a9bb-453f-982e-a9342639c5b0",
   "metadata": {},
   "outputs": [],
   "source": [
    "#| export\n",
    "class LogCoshDiceLoss:\n",
    "    \"\"\"\n",
    "    proposed in http://arxiv.org/abs/2006.14822\n",
    "    \"\"\"\n",
    "    def __init__(self, axis=1, smooth=1., alpha=1.):\n",
    "        store_attr()\n",
    "        self.dice_loss =  DiceLoss(axis, smooth, reduction=\"sum\")\n",
    "        \n",
    "    def __call__(self, pred, targ):\n",
    "        x = self.dice_loss(pred, targ)\n",
    "        return torch.log(torch.cosh(x))\n",
    "    \n",
    "    def decodes(self, x):    return x.argmax(dim=self.axis)\n",
    "    def activation(self, x): return F.softmax(x, dim=self.axis)"
   ]
  },
  {
   "cell_type": "markdown",
   "id": "37ae94c8-3254-44c8-97c9-a448dd2d1eed",
   "metadata": {},
   "source": [
    "## Testing"
   ]
  },
  {
   "cell_type": "markdown",
   "id": "d534aa30-2915-4e0d-877a-d95184616e9e",
   "metadata": {},
   "source": [
    "### Loss Test Suite"
   ]
  },
  {
   "cell_type": "code",
   "execution_count": 11,
   "id": "26b3026f-2ab6-4e67-bae6-ecffbaf58b89",
   "metadata": {},
   "outputs": [],
   "source": [
    "#| hide\n",
    "#Test\n",
    "model_output = tensor([[[[2., 1.],\n",
    "                         [1., 5.]],\n",
    "                        [[1,  2.],\n",
    "                         [3., 1.]],\n",
    "                        [[3., 0],\n",
    "                         [4., 3.]]]])\n",
    "target       =  tensor([[[2, 1],\n",
    "                         [2, 0]]])\n",
    "# [B, N, W, H]\n",
    "# [B, W, H]\n",
    "\n",
    "#losses\n",
    "fl = FocalLossFlat(axis=1)\n",
    "\n",
    "dl = DiceLoss(reduction=\"sum\", smooth=1.) #THIS MUST BE 1 to MATCH ANYTHING\n",
    "tl = ModifiedTverskyLoss(reduction=\"sum\", smooth=1., beta=0.5) # AND THIS YOU IDIOT\n",
    "\n",
    "fdl = FocalDiceLoss()\n",
    "ftl = FocalTverskyLoss(beta=0.5)\n",
    "\n",
    "#outputs\n",
    "fl_out = fl(model_output, target)\n",
    "dl_out = dl(model_output, target)\n",
    "tl_out = tl(model_output, target)\n",
    "fdl_out = fdl(model_output, target)\n",
    "ftl_out = ftl(model_output, target)\n",
    "\n",
    "#tests\n",
    "fasttest.test_close(dl_out, SimpleDiceLoss()(model_output, target)) # juuust in case\n",
    "fasttest.test_close(fl_out + dl_out, fdl_out) #fdl is just fl+dl... but its less for some reason\n",
    "fasttest.test_close(dl_out, tl_out) # should be the same if the tversky beta = 0.5\n",
    "fasttest.test_close(fdl_out, ftl_out)"
   ]
  },
  {
   "cell_type": "markdown",
   "id": "1922a183-845d-4ec7-a86c-b963e88bcb9c",
   "metadata": {},
   "source": [
    "### Test on Model"
   ]
  },
  {
   "cell_type": "code",
   "execution_count": 12,
   "id": "88b16195-1c35-4334-8397-49cd2b916fd1",
   "metadata": {},
   "outputs": [],
   "source": [
    "#| hide\n",
    "path = untar_data(URLs.CAMVID_TINY)\n",
    "dls = SegmentationDataLoaders.from_label_func(\n",
    "    path, bs=8, fnames = get_image_files(path/\"images\"),\n",
    "    label_func = lambda o: path/'labels'/f'{o.stem}_P{o.suffix}',\n",
    "    codes = np.loadtxt(path/'codes.txt', dtype=str)\n",
    ")\n",
    "def test_loss(loss_func):\n",
    "    learn = unet_learner(dls, resnet34, loss_func = loss_func, metrics=DiceMulti(axis=1))\n",
    "    learn.fine_tune(4, 10e-5) # 10e-5 works\n",
    "    learn.recorder.plot_loss()"
   ]
  },
  {
   "cell_type": "code",
   "execution_count": 13,
   "id": "93b5ecb4-5461-44ca-89d6-6d542691e3a0",
   "metadata": {},
   "outputs": [
    {
     "data": {
      "text/html": [
       "\n",
       "<style>\n",
       "    /* Turns off some styling */\n",
       "    progress {\n",
       "        /* gets rid of default border in Firefox and Opera. */\n",
       "        border: none;\n",
       "        /* Needs to be in here for Safari polyfill so background images work as expected. */\n",
       "        background-size: auto;\n",
       "    }\n",
       "    progress:not([value]), progress:not([value])::-webkit-progress-bar {\n",
       "        background: repeating-linear-gradient(45deg, #7e7e7e, #7e7e7e 10px, #5c5c5c 10px, #5c5c5c 20px);\n",
       "    }\n",
       "    .progress-bar-interrupted, .progress-bar-interrupted::-webkit-progress-bar {\n",
       "        background: #F44336;\n",
       "    }\n",
       "</style>\n"
      ],
      "text/plain": [
       "<IPython.core.display.HTML object>"
      ]
     },
     "metadata": {},
     "output_type": "display_data"
    },
    {
     "data": {
      "text/html": [
       "<table border=\"1\" class=\"dataframe\">\n",
       "  <thead>\n",
       "    <tr style=\"text-align: left;\">\n",
       "      <th>epoch</th>\n",
       "      <th>train_loss</th>\n",
       "      <th>valid_loss</th>\n",
       "      <th>dice_multi</th>\n",
       "      <th>time</th>\n",
       "    </tr>\n",
       "  </thead>\n",
       "  <tbody>\n",
       "    <tr>\n",
       "      <td>0</td>\n",
       "      <td>0.985534</td>\n",
       "      <td>0.978163</td>\n",
       "      <td>0.014963</td>\n",
       "      <td>00:01</td>\n",
       "    </tr>\n",
       "  </tbody>\n",
       "</table>"
      ],
      "text/plain": [
       "<IPython.core.display.HTML object>"
      ]
     },
     "metadata": {},
     "output_type": "display_data"
    },
    {
     "data": {
      "text/html": [
       "\n",
       "<style>\n",
       "    /* Turns off some styling */\n",
       "    progress {\n",
       "        /* gets rid of default border in Firefox and Opera. */\n",
       "        border: none;\n",
       "        /* Needs to be in here for Safari polyfill so background images work as expected. */\n",
       "        background-size: auto;\n",
       "    }\n",
       "    progress:not([value]), progress:not([value])::-webkit-progress-bar {\n",
       "        background: repeating-linear-gradient(45deg, #7e7e7e, #7e7e7e 10px, #5c5c5c 10px, #5c5c5c 20px);\n",
       "    }\n",
       "    .progress-bar-interrupted, .progress-bar-interrupted::-webkit-progress-bar {\n",
       "        background: #F44336;\n",
       "    }\n",
       "</style>\n"
      ],
      "text/plain": [
       "<IPython.core.display.HTML object>"
      ]
     },
     "metadata": {},
     "output_type": "display_data"
    },
    {
     "data": {
      "text/html": [
       "<table border=\"1\" class=\"dataframe\">\n",
       "  <thead>\n",
       "    <tr style=\"text-align: left;\">\n",
       "      <th>epoch</th>\n",
       "      <th>train_loss</th>\n",
       "      <th>valid_loss</th>\n",
       "      <th>dice_multi</th>\n",
       "      <th>time</th>\n",
       "    </tr>\n",
       "  </thead>\n",
       "  <tbody>\n",
       "    <tr>\n",
       "      <td>0</td>\n",
       "      <td>0.970021</td>\n",
       "      <td>0.957115</td>\n",
       "      <td>0.066376</td>\n",
       "      <td>00:01</td>\n",
       "    </tr>\n",
       "    <tr>\n",
       "      <td>1</td>\n",
       "      <td>0.954114</td>\n",
       "      <td>0.936345</td>\n",
       "      <td>0.080136</td>\n",
       "      <td>00:01</td>\n",
       "    </tr>\n",
       "    <tr>\n",
       "      <td>2</td>\n",
       "      <td>0.945533</td>\n",
       "      <td>0.932324</td>\n",
       "      <td>0.088844</td>\n",
       "      <td>00:01</td>\n",
       "    </tr>\n",
       "    <tr>\n",
       "      <td>3</td>\n",
       "      <td>0.940728</td>\n",
       "      <td>0.931491</td>\n",
       "      <td>0.089454</td>\n",
       "      <td>00:01</td>\n",
       "    </tr>\n",
       "  </tbody>\n",
       "</table>"
      ],
      "text/plain": [
       "<IPython.core.display.HTML object>"
      ]
     },
     "metadata": {},
     "output_type": "display_data"
    },
    {
     "data": {
      "image/png": "[encoded data removed]",
      "text/plain": [
       "<Figure size 640x480 with 1 Axes>"
      ]
     },
     "metadata": {},
     "output_type": "display_data"
    }
   ],
   "source": [
    "#| hide\n",
    "#loss_func = DiceFocalLoss()\n",
    "#loss_func = BaseLoss(DiceLoss, axis=1, smooth=1, reduction=\"mean\")#, square_in_union=True) #dice loss is naturally unsmooth\n",
    "#loss_func = DiceLoss(axis=1, smooth=1) #dice loss is naturally unsmooth\n",
    "\n",
    "#loss_func = CrossEntropyLossFlat(axis=1)\n",
    "#loss_func = SimpleDiceLoss()\n",
    "#loss_func = DiceCELoss()\n",
    "#loss_func = LogCoshDiceLoss()\n",
    "\n",
    "#loss_func = CrossEntropyLossFlat(axis=1)\n",
    "\n",
    "loss_func = ModifiedTverskyLoss(reduction=\"mean\")\n",
    "\n",
    "learn = test_loss(loss_func)\n"
   ]
  }
 ],
 "metadata": {
  "kernelspec": {
   "display_name": "Python 3 (ipykernel)",
   "language": "python",
   "name": "python3"
  },
  "language_info": {
   "codemirror_mode": {
    "name": "ipython",
    "version": 3
   },
   "file_extension": ".py",
   "mimetype": "text/x-python",
   "name": "python",
   "nbconvert_exporter": "python",
   "pygments_lexer": "ipython3",
   "version": "3.11.9"
  }
 },
 "nbformat": 4,
 "nbformat_minor": 5
}
