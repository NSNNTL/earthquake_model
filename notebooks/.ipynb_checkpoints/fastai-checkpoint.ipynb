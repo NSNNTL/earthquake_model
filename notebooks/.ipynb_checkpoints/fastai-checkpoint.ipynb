{
 "cells": [
  {
   "cell_type": "markdown",
   "id": "2c07e7a0-3fec-4837-bdc0-db1da9d7b0e7",
   "metadata": {},
   "source": [
    "https://fastai1.fast.ai/troubleshoot.html"
   ]
  },
  {
   "cell_type": "code",
   "execution_count": 9,
   "id": "8c90dcf2-8b01-4f7e-86ae-80782c8ecf98",
   "metadata": {},
   "outputs": [],
   "source": [
    "#import os\n",
    "#os.environ['CUDA_LAUNCH_BLOCKING'] = \"1\"\n",
    "import torch\n",
    "from fastai.data.all import *\n",
    "from fastai.vision.all import *\n",
    "from patchify import patchify\n",
    "from PIL import Image\n",
    "\n",
    "BATCH_SZ = 8\n",
    "PATCH_SZ = 256 # must be a multiple of the image size, obviously\n",
    "\n",
    "#torch.device(\"cpu\")\n",
    "\n",
    "#fastai.defaults.device = \"cpu\"\n",
    "#defaults.device = \"cpu\"\n",
    "#!export CUDA_VISIBLE_DEVICES=\"\""
   ]
  },
  {
   "cell_type": "markdown",
   "id": "4718d64e-cb01-4624-98c8-ef7a5961904f",
   "metadata": {},
   "source": [
    "[https://walkwithfastai.com/Segmentation]"
   ]
  },
  {
   "cell_type": "markdown",
   "id": "cc9a008d-e955-421d-8bfb-bd4b277e2989",
   "metadata": {},
   "source": [
    "### Pre-pipeline processing with patchify"
   ]
  },
  {
   "cell_type": "code",
   "execution_count": 10,
   "id": "6bec4e09-5f58-494d-8f74-e99f22bcc2db",
   "metadata": {},
   "outputs": [],
   "source": [
    "# simpler implementation, more readable if perhaps less dry...\n",
    "def extract_patches(full_arr, sz=PATCH_SZ):\n",
    "    patch_list = []\n",
    "    if len(full_arr.shape) < 3 : # account for no channel dim (masks)\n",
    "        patch_arr = patchify(full_arr, (sz, sz), sz)\n",
    "        for i in range(patch_arr.shape[0]):\n",
    "            for j in range(patch_arr.shape[1]):\n",
    "                patch_list.append(patch_arr[i,j,:,:])\n",
    "    \n",
    "    else:\n",
    "        channels = full_arr.shape[-1]\n",
    "        patch_arr = patchify(full_arr, (sz, sz, channels), sz)\n",
    "        for i in range(patch_arr.shape[0]):\n",
    "            for j in range(patch_arr.shape[1]):\n",
    "                patch_list.append(patch_arr[i,j,:,:,:])\n",
    "\n",
    "\n",
    "    return patch_list"
   ]
  },
  {
   "cell_type": "code",
   "execution_count": 14,
   "id": "276698f0-d94b-4e72-9cc8-32c86e7ac7dc",
   "metadata": {},
   "outputs": [],
   "source": [
    "#TODO - screw around calculating class imbalance\n",
    "\n",
    "def get_all_patches(path):\n",
    "    \"\"\"\n",
    "    Given an input data directory,\n",
    "    returns a list with tuples of form (img_patch, msk_patch)\n",
    "    \"\"\"\n",
    "    \n",
    "    def get_arrays(path):\n",
    "        #This NEEDS to be sorted or everything else will be messed up...\n",
    "        paths = sorted(path.glob(\"*\"))\n",
    "        return [np.array(Image.open(path)) for path in paths]\n",
    "\n",
    "    img_arrs = get_arrays(path/\"images\")\n",
    "    msk_arrs = get_arrays(path/\"targets\")\n",
    "\n",
    "    img_patches = [extract_patches(img_arr) for img_arr in img_arrs]\n",
    "    msk_patches = [extract_patches(msk_arr) for msk_arr in msk_arrs]\n",
    "\n",
    "    img_patches = [patch for patches in img_patches for patch in patches]\n",
    "    msk_patches = [patch for patches in msk_patches for patch in patches]\n",
    "\n",
    "    # extra processing-- not efficient, but necessary!\n",
    "    img_patches = [patch.squeeze() for patch in img_patches]\n",
    "    msk_patches = [patch.squeeze() for patch in msk_patches]\n",
    "\n",
    "    all_patches = list(zip(img_patches, msk_patches))\n",
    "\n",
    "    return all_patches\n",
    "\n",
    "# don't optimize prematurely! >:3\n",
    "\n",
    "def save_patches(patches, output_dir):\n",
    "    \"\"\"\n",
    "    given patches and an output dir, save all patches\n",
    "    \"\"\"\n",
    "    total = len(patches)\n",
    "    for i, (img, msk) in enumerate(patches):\n",
    "        Image.fromarray(img).save(output_dir/\"images\"/f\"{i}.png\")\n",
    "        Image.fromarray(msk).save(output_dir/\"targets\"/f\"{i}.png\")\n",
    "        print(f\"Saved tuple {i}/{total}\", end=\"\\r\", flush=True)\n",
    "    print(end=\"\\r\", flush=True)\n"
   ]
  },
  {
   "cell_type": "code",
   "execution_count": 16,
   "id": "4fb73152-53d9-4bd2-8c2f-940a7d9054ae",
   "metadata": {},
   "outputs": [
    {
     "name": "stdout",
     "output_type": "stream",
     "text": [
      "patches already extracted! skipping.\n"
     ]
    }
   ],
   "source": [
    "\n",
    "base_path = Path(\"../data/\")\n",
    "data_dir = base_path/\"full\"/\"post-disaster\"\n",
    "patch_dir = base_path/f\"{PATCH_SZ}_patches\"\n",
    "\n",
    "\n",
    "if not patch_dir.is_dir():\n",
    "    # make necessary directories\n",
    "    patch_dir.mkdir()\n",
    "    (patch_dir/\"images\").mkdir()\n",
    "    (patch_dir/\"targets\").mkdir()\n",
    "\n",
    "    print(\"extracting patches...\")\n",
    "    patches = get_all_patches(data_dir)\n",
    "    print(\"saving patches...\")\n",
    "    save_patches(patches, patch_dir)\n",
    "    print(\"all patches saved!\")\n",
    "else:\n",
    "    print(\"patches already extracted! skipping.\")\n"
   ]
  },
  {
   "cell_type": "markdown",
   "id": "e1fb7a38-1d43-4fbd-80fc-e8836f31e8a9",
   "metadata": {},
   "source": [
    "### Make Dataset"
   ]
  },
  {
   "cell_type": "code",
   "execution_count": null,
   "id": "9f19d2ad-63b3-4e39-bdb8-64b7c73c8ff7",
   "metadata": {},
   "outputs": [],
   "source": [
    "codes = [\"Background\", \"NoDamage\", \"MinorDamage\", \"MajorDamage\", \"Destroyed\"]"
   ]
  },
  {
   "cell_type": "code",
   "execution_count": null,
   "id": "a1a3f2a0-4aaf-4395-8da8-46e090fea3f9",
   "metadata": {},
   "outputs": [],
   "source": [
    "path = patch_dir\n",
    "dls = SegmentationDataLoaders.from_label_func(path, bs=8,\n",
    "    fnames = get_image_files(path/\"images\"), \n",
    "    label_func = lambda o: path/\"targets\"/f\"{o.stem}_P{o.suffix}\",                                     \n",
    "    codes = codes,\n",
    "    # batch_tfms=[*aug_transforms(size=(360,480)), Normalize.from_stats(*imagenet_stats)]\n",
    "    )"
   ]
  },
  {
   "cell_type": "code",
   "execution_count": null,
   "id": "31bedf71-30ad-47e1-83ff-cec246bf4b8e",
   "metadata": {},
   "outputs": [],
   "source": [
    "dls.show_batch()"
   ]
  },
  {
   "cell_type": "code",
   "execution_count": null,
   "id": "e07ddbb3-6845-4a9d-a0c3-9e37fd39464c",
   "metadata": {},
   "outputs": [],
   "source": [
    "learn = unet_learner(\n",
    "    dls, \n",
    "    resnet18, \n",
    "    metrics=DiceMulti(axis=1), \n",
    "    self_attention=True, \n",
    "    act_cls=Mish,\n",
    "    loss_func = DiceLoss(),\n",
    "    pretrained=True,\n",
    "    n_out = 5 # set codes implicitly later\n",
    ")\n",
    "# learn.summary()"
   ]
  },
  {
   "cell_type": "code",
   "execution_count": null,
   "id": "a0e9a767-0167-4984-a869-63361ab8d33e",
   "metadata": {},
   "outputs": [],
   "source": [
    "# something screwy going on with this...\n",
    "lr = learn.lr_find()"
   ]
  },
  {
   "cell_type": "code",
   "execution_count": null,
   "id": "c503b03e-11c4-4334-917c-7929a6d70cb4",
   "metadata": {},
   "outputs": [],
   "source": [
    "lr = lr[0]; lr\n",
    "#https://towardsdatascience.com/implementing-a-batch-size-finder-in-fastai-how-to-get-a-4x-speedup-with-better-generalization-813d686f6bdf\n",
    "# automatic batch finding??"
   ]
  },
  {
   "cell_type": "code",
   "execution_count": null,
   "id": "e9510be2-f14b-42b5-9310-3559fe109a67",
   "metadata": {},
   "outputs": [],
   "source": [
    "# automatically does applies all of Leslie Smith's tricks-- 1cycle, freezing, discrinatory lr\n",
    "\n",
    "# model isn't changing at all right now-- activations must be \"dead\"\n",
    "# data isn't scaled....\n",
    "learn.fine_tune(epochs=3, base_lr=lr, freeze_epochs=2)"
   ]
  },
  {
   "cell_type": "code",
   "execution_count": null,
   "id": "e93a0a8c-910e-4a4f-9a11-936b3880dba6",
   "metadata": {},
   "outputs": [],
   "source": [
    "learn.show_results(max_n=8)"
   ]
  },
  {
   "cell_type": "code",
   "execution_count": null,
   "id": "b4e74d07-ff42-4849-9d5b-a6a770f11484",
   "metadata": {},
   "outputs": [],
   "source": []
  }
 ],
 "metadata": {
  "kernelspec": {
   "display_name": "Python 3 (ipykernel)",
   "language": "python",
   "name": "python3"
  },
  "language_info": {
   "codemirror_mode": {
    "name": "ipython",
    "version": 3
   },
   "file_extension": ".py",
   "mimetype": "text/x-python",
   "name": "python",
   "nbconvert_exporter": "python",
   "pygments_lexer": "ipython3",
   "version": "3.11.9"
  }
 },
 "nbformat": 4,
 "nbformat_minor": 5
}
