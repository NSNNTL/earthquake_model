{
 "cells": [
  {
   "cell_type": "markdown",
   "id": "c912fc98-58a4-4fe9-ae68-8984d476f2c9",
   "metadata": {},
   "source": [
    "# Research Goal: test as many different loss functions as possible for THIS SPECIFIC USE!"
   ]
  },
  {
   "cell_type": "markdown",
   "id": "4718d64e-cb01-4624-98c8-ef7a5961904f",
   "metadata": {
    "editable": true,
    "slideshow": {
     "slide_type": ""
    },
    "tags": []
   },
   "source": [
    "[https://walkwithfastai.com/Segmentation]"
   ]
  },
  {
   "cell_type": "code",
   "execution_count": 1,
   "id": "8c90dcf2-8b01-4f7e-86ae-80782c8ecf98",
   "metadata": {},
   "outputs": [],
   "source": [
    "import torch\n",
    "from fastai.data.all import *\n",
    "from fastai.vision.all import *\n",
    "from patchify import patchify\n",
    "from PIL import Image\n",
    "import optuna\n",
    "from optuna.integration import FastAIPruningCallback\n",
    "import optuna.visualization as vs\n",
    "#import monai.losses as mdlss #(med loss)\n",
    "from extra_loss_functions import *\n",
    "\n",
    "# NON-OPTIMIZED HYPERPARAMS (cause my GPU can't handle it :P)\n",
    "\n",
    "# the gpu can hold 256 * 256 * 8 pixels = 524288\n",
    "#  or 128 * 128 * 32\n",
    "# or 64 * 64 * 128\n",
    "# or 32 * 32 * 512\n",
    "SIZES = [(256, 8), (128, 32), (64, 128), (32, 512)]\n",
    "PATCH_SZ, BATCH_SZ = SIZES[0]\n",
    "\n",
    "\n",
    "# Set these low for testing hyper-optimizer setup. May be hyperparams later.\n",
    "FREEZE_EPOCHS = 1\n",
    "EPOCHS = 2\n",
    "NUM_TRIALS = 2\n",
    "\n"
   ]
  },
  {
   "cell_type": "markdown",
   "id": "cc9a008d-e955-421d-8bfb-bd4b277e2989",
   "metadata": {},
   "source": [
    "### Pre-pipeline processing with patchify"
   ]
  },
  {
   "cell_type": "markdown",
   "id": "e1fb7a38-1d43-4fbd-80fc-e8836f31e8a9",
   "metadata": {},
   "source": [
    "### Make Optimizer"
   ]
  },
  {
   "cell_type": "code",
   "execution_count": 2,
   "id": "e07ddbb3-6845-4a9d-a0c3-9e37fd39464c",
   "metadata": {},
   "outputs": [],
   "source": [
    "def objective(trial):\n",
    "\n",
    "    #things the optimizer does...\n",
    "\n",
    "    pretrained = trial.suggest_categorical(\"pretrained\", [True, False])\n",
    "\n",
    "\n",
    "\n",
    "    \n",
    "    #value for tversky\n",
    "    alpha = trial.suggest_float(\"alpha\", 0.0, 1.0)\n",
    "    beta = trial.suggest_float(\"beta\", 0.0, 1.0)\n",
    "\n",
    "    loss_dict = {\n",
    "            \"cross_entropy\":CrossEntropyLossFlat(axis=1),\n",
    "            \"dice\":DiceLoss(reduction=\"mean\"),\n",
    "            \"tversky\":ModifiedTverskyLoss(reduction=\"mean\", beta=beta),\n",
    "            \"combo\":ComboLoss(alpha=alpha),\n",
    "            \"focal_dice\":FocalDiceLoss(alpha=alpha),\n",
    "            \"focal_tversky\":FocalTverskyLoss(reduction=\"mean\", alpha=alpha, beta=beta),\n",
    "            \"log_cosh_dice\":LogCoshDiceLoss(reduction=\"mean\"),\n",
    "            }\n",
    "    \n",
    "    loss_fn = trial.suggest_categorical(\"loss_fn\",\n",
    "                                        [\n",
    "                                        \"cross_entropy\",\n",
    "                                        \"dice\",\n",
    "                                        \"tversky\",\n",
    "                                        \"combo\",\n",
    "                                        \"focal_dice\",\n",
    "                                        \"focal_tversky\",\n",
    "                                        \"log_cosh_dice\",\n",
    "                                        ]\n",
    "                                       )\n",
    "                                       \n",
    "    \n",
    "    lr = trial.suggest_float(\"learning_rate\", 1e-5, 1e-2)\n",
    "\n",
    "    patch_dir = Path(f\"../data/{PATCH_SZ}_patches\")\n",
    "    path = patch_dir\n",
    "    codes = [\"Background\", \"NoDamage\", \"MinorDamage\", \"MajorDamage\", \"Destroyed\"]\n",
    "    \n",
    "    dls = SegmentationDataLoaders.from_label_func(path, bs=BATCH_SZ,\n",
    "        fnames = get_image_files(path/\"images\"), \n",
    "        label_func = lambda o: path/\"targets\"/f\"{o.stem}{o.suffix}\",                                     \n",
    "        codes = codes,\n",
    "        # batch_tfms=[*aug_transforms(size=(360,480)), Normalize.from_stats(*imagenet_stats)]\n",
    "        )\n",
    "\n",
    "    learn = unet_learner(\n",
    "        dls, \n",
    "        resnet18, \n",
    "        metrics=DiceMulti(axis=1),\n",
    "        self_attention=True, \n",
    "        act_cls=Mish,\n",
    "        loss_func = loss_dict[loss_fn],\n",
    "        pretrained=True,\n",
    "        n_out = len(codes) # set codes implicitly later\n",
    "    )\n",
    "\n",
    "    model_cbs = [\n",
    "    # EarlyStoppingCallback(monitor='valid_loss', min_delta=0.1, patience=2), # detect overfitting\n",
    "    # EarlyStoppingCallback(monitor='train_loss', min_delta=0.1, patience=3), # decect stalled training\n",
    "    # ActivationStats(with_hist=True)], # too slow\n",
    "    FastAIPruningCallback(trial, monitor=\"dice_multi\")\n",
    "    # set this to `train_loss` to purposely overfit?\n",
    "    # ! Optimizer may lose information on overfitting I need to look at... make sure to log everything.\n",
    "    # TRY USING FP.16!!\n",
    "    ]\n",
    "\n",
    "    # See https://forums.fast.ai/t/how-to-diable-progress-bar-completely/65249/3\n",
    "    # to disable progress bar and logging info.\n",
    "    with learn.no_bar():\n",
    "        with learn.no_logging():\n",
    "            learn.fine_tune(epochs=EPOCHS,\n",
    "                    base_lr=lr,\n",
    "                    freeze_epochs=FREEZE_EPOCHS,\n",
    "                    cbs=model_cbs\n",
    "                   )\n",
    "\n",
    "    return learn.recorder.metrics[0].value.item() # only one metric to worry about"
   ]
  },
  {
   "cell_type": "markdown",
   "id": "e41db72d-9025-41dd-8c11-f2cd3e31eb70",
   "metadata": {},
   "source": [
    "### Optimize"
   ]
  },
  {
   "cell_type": "code",
   "execution_count": null,
   "id": "31bedf71-30ad-47e1-83ff-cec246bf4b8e",
   "metadata": {},
   "outputs": [
    {
     "name": "stderr",
     "output_type": "stream",
     "text": [
      "[I 2024-07-08 13:24:43,617] A new study created in memory with name: no-name-6e2deef3-863c-4af8-8c67-4ae6e1d5421e\n"
     ]
    }
   ],
   "source": [
    "study = optuna.create_study(direction=\"maximize\") # use default pruner\n",
    "study.optimize(objective, n_trials=NUM_TRIALS, timeout=600)"
   ]
  },
  {
   "cell_type": "code",
   "execution_count": null,
   "id": "baa91fd7-10d2-4a20-8bef-c5ff204c89ea",
   "metadata": {},
   "outputs": [],
   "source": [
    "# print a bunch of junk\n",
    "\n",
    "print(\"Number of finished trials: {}\".format(len(study.trials)))\n",
    "\n",
    "print(\"Best trial:\")\n",
    "trial = study.best_trial\n",
    "\n",
    "print(\"  Value: {}\".format(trial.value))\n",
    "\n",
    "print(\"  Params: \")\n",
    "for key, value in trial.params.items():\n",
    "    print(\"    {}: {}\".format(key, value))"
   ]
  }
 ],
 "metadata": {
  "kernelspec": {
   "display_name": "Python 3 (ipykernel)",
   "language": "python",
   "name": "python3"
  },
  "language_info": {
   "codemirror_mode": {
    "name": "ipython",
    "version": 3
   },
   "file_extension": ".py",
   "mimetype": "text/x-python",
   "name": "python",
   "nbconvert_exporter": "python",
   "pygments_lexer": "ipython3",
   "version": "3.11.9"
  }
 },
 "nbformat": 4,
 "nbformat_minor": 5
}
