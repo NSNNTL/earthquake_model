{
 "cells": [
  {
   "cell_type": "markdown",
   "id": "4718d64e-cb01-4624-98c8-ef7a5961904f",
   "metadata": {},
   "source": [
    "[https://walkwithfastai.com/Segmentation]"
   ]
  },
  {
   "cell_type": "code",
   "execution_count": 1,
   "id": "8c90dcf2-8b01-4f7e-86ae-80782c8ecf98",
   "metadata": {},
   "outputs": [],
   "source": [
    "import torch\n",
    "from fastai.data.all import *\n",
    "from fastai.vision.all import *\n",
    "from patchify import patchify\n",
    "from PIL import Image\n",
    "import optuna\n",
    "from optuna.integration import FastAIPruningCallback\n",
    "import optuna.visualization as vs\n",
    "import monai.losses as mdlss #(med loss)\n",
    "\n",
    "# NON-OPTIMIZED HYPERPARAMS (cause my GPU can't handle it :P)\n",
    "\n",
    "# the gpu can hold 256 * 256 * 8 pixels = 524288\n",
    "#  or 128 * 128 * 32\n",
    "# or 64 * 64 * 128\n",
    "# or 32 * 32 * 512\n",
    "SIZES = [(256, 8), (128, 32), (64, 128), (32, 512)]\n",
    "PATCH_SZ, BATCH_SZ = SIZES[0]\n",
    "\n",
    "\n",
    "# Set these low for testing hyper-optimizer setup. May be hyperparams later.\n",
    "FREEZE_EPOCHS = 1\n",
    "EPOCHS = 2\n",
    "NUM_TRIALS = 2\n",
    "\n"
   ]
  },
  {
   "cell_type": "markdown",
   "id": "cc9a008d-e955-421d-8bfb-bd4b277e2989",
   "metadata": {},
   "source": [
    "### Pre-pipeline processing with patchify"
   ]
  },
  {
   "cell_type": "markdown",
   "id": "e1fb7a38-1d43-4fbd-80fc-e8836f31e8a9",
   "metadata": {},
   "source": [
    "### Make Optimizer"
   ]
  },
  {
   "cell_type": "code",
   "execution_count": 1,
   "id": "e07ddbb3-6845-4a9d-a0c3-9e37fd39464c",
   "metadata": {},
   "outputs": [],
   "source": [
    "def objective(trial):\n",
    "\n",
    "    #things the optimizer does...\n",
    "    loss_fn = trial.suggest_categorical(\"loss_fn\",\n",
    "                                        [CrossEntropyLossFlat(axis=1),\n",
    "                                         DiceLoss()]\n",
    "                                       )\n",
    "    pretrained = trial.suggest_categorical(\"pretrained\", True, False)\n",
    "    \n",
    "    path = patch_dir\n",
    "    codes = [\"Background\", \"NoDamage\", \"MinorDamage\", \"MajorDamage\", \"Destroyed\"]\n",
    "    \n",
    "    dls = SegmentationDataLoaders.from_label_func(path, bs=BATCH_SZ,\n",
    "        fnames = get_image_files(path/\"images\"), \n",
    "        label_func = lambda o: path/\"targets\"/f\"{o.stem}{o.suffix}\",                                     \n",
    "        codes = codes,\n",
    "        # batch_tfms=[*aug_transforms(size=(360,480)), Normalize.from_stats(*imagenet_stats)]\n",
    "        )\n",
    "\n",
    "    learn = unet_learner(\n",
    "        dls, \n",
    "        resnet18, \n",
    "        metrics=DiceMulti(axis=1),\n",
    "        self_attention=True, \n",
    "        act_cls=Mish,\n",
    "        loss_func = loss_fn_dict[loss_fn],\n",
    "        pretrained=True,\n",
    "        n_out = len(codes) # set codes implicitly later\n",
    "    )\n",
    "\n",
    "    model_cbs = [\n",
    "    # EarlyStoppingCallback(monitor='valid_loss', min_delta=0.1, patience=2), # detect overfitting\n",
    "    # EarlyStoppingCallback(monitor='train_loss', min_delta=0.1, patience=3), # decect stalled training\n",
    "    # ActivationStats(with_hist=True)], # too slow\n",
    "    FastAIPruningCallback(trial, monitor=\"dice_multi\")\n",
    "    # set this to `train_loss` to purposely overfit?\n",
    "    # ! Optimizer may lose information on overfitting I need to look at... make sure to log everything.\n",
    "    # TRY USING FP.16!!\n",
    "    ]\n",
    "\n",
    "    lr = learn.lr_find()\n",
    "    lr = lr[0]; lr\n",
    "\n",
    "    # See https://forums.fast.ai/t/how-to-diable-progress-bar-completely/65249/3\n",
    "    # to disable progress bar and logging info.\n",
    "    with learn.no_bar():\n",
    "        with learn.no_logging():\n",
    "            learn.fine_tune(epochs=EPOCHS,\n",
    "                    base_lr=lr,\n",
    "                    freeze_epochs=FREEZE_EPOCHS,\n",
    "                    cbs=model_cbs\n",
    "                   )\n",
    "\n",
    "    return learn.recorder.metrics[0].value.item() # only one metric to worry about"
   ]
  },
  {
   "cell_type": "markdown",
   "id": "e41db72d-9025-41dd-8c11-f2cd3e31eb70",
   "metadata": {},
   "source": [
    "### Optimize"
   ]
  },
  {
   "cell_type": "code",
   "execution_count": null,
   "id": "31bedf71-30ad-47e1-83ff-cec246bf4b8e",
   "metadata": {},
   "outputs": [],
   "source": [
    "study = optuna.create_study(direction=\"maximize\") # use default pruner\n",
    "study.optimize(objective, n_trials=NUM_TRIALS, timeout=600)"
   ]
  },
  {
   "cell_type": "code",
   "execution_count": null,
   "id": "baa91fd7-10d2-4a20-8bef-c5ff204c89ea",
   "metadata": {},
   "outputs": [],
   "source": [
    "# print a bunch of junk\n",
    "\n",
    "print(\"Number of finished trials: {}\".format(len(study.trials)))\n",
    "\n",
    "print(\"Best trial:\")\n",
    "trial = study.best_trial\n",
    "\n",
    "print(\"  Value: {}\".format(trial.value))\n",
    "\n",
    "print(\"  Params: \")\n",
    "for key, value in trial.params.items():\n",
    "    print(\"    {}: {}\".format(key, value))"
   ]
  }
 ],
 "metadata": {
  "kernelspec": {
   "display_name": "Python 3 (ipykernel)",
   "language": "python",
   "name": "python3"
  },
  "language_info": {
   "codemirror_mode": {
    "name": "ipython",
    "version": 3
   },
   "file_extension": ".py",
   "mimetype": "text/x-python",
   "name": "python",
   "nbconvert_exporter": "python",
   "pygments_lexer": "ipython3",
   "version": "3.12.4"
  }
 },
 "nbformat": 4,
 "nbformat_minor": 5
}
