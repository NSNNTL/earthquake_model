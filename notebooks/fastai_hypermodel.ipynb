{
 "cells": [
  {
   "cell_type": "markdown",
   "id": "c912fc98-58a4-4fe9-ae68-8984d476f2c9",
   "metadata": {},
   "source": [
    "# Research Goal: test as many different loss functions as possible for THIS SPECIFIC USE!"
   ]
  },
  {
   "cell_type": "markdown",
   "id": "4718d64e-cb01-4624-98c8-ef7a5961904f",
   "metadata": {
    "editable": true,
    "slideshow": {
     "slide_type": ""
    },
    "tags": []
   },
   "source": [
    "[https://walkwithfastai.com/Segmentation]"
   ]
  },
  {
   "cell_type": "code",
   "execution_count": 1,
   "id": "8c90dcf2-8b01-4f7e-86ae-80782c8ecf98",
   "metadata": {},
   "outputs": [],
   "source": [
    "import torch\n",
    "from fastai.data.all import *\n",
    "from fastai.vision.all import *\n",
    "from patchify import patchify\n",
    "from PIL import Image\n",
    "import optuna\n",
    "from optuna.integration import FastAIPruningCallback\n",
    "import optuna.visualization.matplotlib as vs\n",
    "#import monai.losses as mdlss #(med loss)\n",
    "from extra_loss_functions import *\n",
    "\n",
    "# NON-OPTIMIZED HYPERPARAMS (cause my GPU can't handle it :P)\n",
    "\n",
    "# the gpu can hold 256 * 256 * 8 pixels = 524288\n",
    "#  or 128 * 128 * 32\n",
    "# or 64 * 64 * 128\n",
    "# or 32 * 32 * 512\n",
    "SIZES = [(256, 8), (128, 32), (64, 128), (32, 512)]\n",
    "PATCH_SZ, BATCH_SZ = SIZES[0]\n",
    "\n",
    "# possibility of increasing bs/ps using fp16??? what about other modes??\n",
    "\n",
    "\n",
    "# Set these low for testing hyper-optimizer setup. May be hyperparams later.\n",
    "FREEZE_EPOCHS = 2\n",
    "EPOCHS = 8\n",
    "NUM_TRIALS = 30\n",
    "\n"
   ]
  },
  {
   "cell_type": "markdown",
   "id": "cc9a008d-e955-421d-8bfb-bd4b277e2989",
   "metadata": {},
   "source": [
    "### Pre-pipeline processing with patchify"
   ]
  },
  {
   "cell_type": "markdown",
   "id": "e1fb7a38-1d43-4fbd-80fc-e8836f31e8a9",
   "metadata": {},
   "source": [
    "### Make Optimizer"
   ]
  },
  {
   "cell_type": "code",
   "execution_count": 2,
   "id": "8487e782-30a6-432c-9f27-464e5572dc06",
   "metadata": {},
   "outputs": [],
   "source": [
    "patch_dir = Path(f\"../data/{PATCH_SZ}_patches\")\n",
    "path = patch_dir\n",
    "codes = [\"Background\", \"NoDamage\", \"MinorDamage\", \"MajorDamage\", \"Destroyed\"]\n",
    "\n",
    "dls = SegmentationDataLoaders.from_label_func(path, bs=BATCH_SZ,\n",
    "    fnames = get_image_files(path/\"images\"), \n",
    "    label_func = lambda o: path/\"targets\"/f\"{o.stem}{o.suffix}\",                                     \n",
    "    codes = codes,\n",
    "    # batch_tfms=[*aug_transforms(size=(360,480)), Normalize.from_stats(*imagenet_stats)]\n",
    "    )"
   ]
  },
  {
   "cell_type": "code",
   "execution_count": 3,
   "id": "e07ddbb3-6845-4a9d-a0c3-9e37fd39464c",
   "metadata": {},
   "outputs": [],
   "source": [
    "def objective(trial):\n",
    "\n",
    "    #things the optimizer does...\n",
    "\n",
    "    #pretrained = trial.suggest_categorical(\"pretrained\", [True, False])\n",
    "\n",
    "\n",
    "\n",
    "    \n",
    "    #value for tversky\n",
    "    alpha = trial.suggest_float(\"alpha\", 0.0, 1.0)\n",
    "    beta = trial.suggest_float(\"beta\", 0.0, 1.0)\n",
    "\n",
    "    loss_dict = {\n",
    "            \"cross_entropy\":CrossEntropyLossFlat(axis=1),\n",
    "            \"dice\":DiceLoss(reduction=\"mean\"),\n",
    "            \"tversky\":ModifiedTverskyLoss(reduction=\"mean\", beta=beta),\n",
    "            \"combo\":ComboLoss(alpha=alpha),\n",
    "            \"focal_dice\":FocalDiceLoss(alpha=alpha),\n",
    "            \"focal_tversky\":FocalTverskyLoss(reduction=\"mean\", alpha=alpha, beta=beta),\n",
    "            \"log_cosh_dice\":LogCoshDiceLoss(reduction=\"mean\"),\n",
    "            }\n",
    "    \n",
    "    loss_fn = trial.suggest_categorical(\"loss_fn\",\n",
    "                                        [\n",
    "                                        \"cross_entropy\",\n",
    "                                        \"dice\",\n",
    "                                        \"tversky\",\n",
    "                                        \"combo\",\n",
    "                                        \"focal_dice\",\n",
    "                                        \"focal_tversky\",\n",
    "                                        \"log_cosh_dice\",\n",
    "                                        ]\n",
    "                                       )\n",
    "                                       \n",
    "    \n",
    "    lr = trial.suggest_float(\"learning_rate\", 1e-5, 1e-2)\n",
    "\n",
    "    \n",
    "\n",
    "    learn = unet_learner(\n",
    "        dls, \n",
    "        resnet18, \n",
    "        metrics=DiceMulti(axis=1),\n",
    "        self_attention=True, \n",
    "        act_cls=Mish,\n",
    "        loss_func = loss_dict[loss_fn],\n",
    "        pretrained=True,\n",
    "        n_out = len(codes) # set codes implicitly later\n",
    "    )\n",
    "    learn.to_fp16()\n",
    "\n",
    "    model_cbs = [\n",
    "    # EarlyStoppingCallback(monitor='valid_loss', min_delta=0.1, patience=2), # detect overfitting\n",
    "    # EarlyStoppingCallback(monitor='train_loss', min_delta=0.1, patience=3), # decect stalled training\n",
    "    # ActivationStats(with_hist=True)], # too slow\n",
    "    FastAIPruningCallback(trial, monitor=\"dice_multi\")\n",
    "    # set this to `train_loss` to purposely overfit?\n",
    "    # ! Optimizer may lose information on overfitting I need to look at... make sure to log everything.\n",
    "    # TRY USING FP.16!!\n",
    "    ]\n",
    "\n",
    "    # See https://forums.fast.ai/t/how-to-diable-progress-bar-completely/65249/3\n",
    "    # to disable progress bar and logging info.\n",
    "    with learn.no_bar():\n",
    "        with learn.no_logging():\n",
    "            learn.fine_tune(epochs=EPOCHS,\n",
    "                    base_lr=lr,\n",
    "                    freeze_epochs=FREEZE_EPOCHS,\n",
    "                    cbs=model_cbs\n",
    "                   )\n",
    "\n",
    "    return learn.recorder.metrics[0].value.item() # only one metric to worry about"
   ]
  },
  {
   "cell_type": "markdown",
   "id": "e41db72d-9025-41dd-8c11-f2cd3e31eb70",
   "metadata": {},
   "source": [
    "### Optimize"
   ]
  },
  {
   "cell_type": "code",
   "execution_count": null,
   "id": "31bedf71-30ad-47e1-83ff-cec246bf4b8e",
   "metadata": {},
   "outputs": [
    {
     "name": "stderr",
     "output_type": "stream",
     "text": [
      "[I 2024-07-08 15:22:40,885] A new study created in memory with name: no-name-b21a6594-d2e4-4836-86c9-de5ae14c4582\n",
      "/home/dawson/.pyenv/versions/mambaforge/envs/fastai/lib/python3.11/site-packages/optuna/trial/_trial.py:493: UserWarning: The reported value is ignored because this `step` 0 is already reported.\n",
      "  warnings.warn(\n",
      "/home/dawson/.pyenv/versions/mambaforge/envs/fastai/lib/python3.11/site-packages/optuna/trial/_trial.py:493: UserWarning: The reported value is ignored because this `step` 1 is already reported.\n",
      "  warnings.warn(\n",
      "[I 2024-07-08 15:31:57,912] Trial 0 finished with value: 0.2464450585719723 and parameters: {'alpha': 0.14986720824771527, 'beta': 0.5542275400564303, 'loss_fn': 'log_cosh_dice', 'learning_rate': 0.001506305164605326}. Best is trial 0 with value: 0.2464450585719723.\n",
      "[I 2024-07-08 15:41:22,890] Trial 1 finished with value: 0.2279604036740577 and parameters: {'alpha': 0.7484891595503568, 'beta': 0.2690726438057577, 'loss_fn': 'tversky', 'learning_rate': 0.0035313893700504037}. Best is trial 0 with value: 0.2464450585719723.\n",
      "[I 2024-07-08 15:52:13,963] Trial 2 finished with value: 0.41238153321884863 and parameters: {'alpha': 0.908047739478618, 'beta': 0.6730963091914416, 'loss_fn': 'cross_entropy', 'learning_rate': 0.007282887220984362}. Best is trial 2 with value: 0.41238153321884863.\n",
      "[I 2024-07-08 16:01:31,518] Trial 3 finished with value: 0.3588141925011738 and parameters: {'alpha': 0.7860704035429804, 'beta': 0.18144346442216963, 'loss_fn': 'log_cosh_dice', 'learning_rate': 0.008569733846483291}. Best is trial 2 with value: 0.41238153321884863.\n",
      "[I 2024-07-08 16:10:46,804] Trial 4 finished with value: 0.13818919069280358 and parameters: {'alpha': 0.8658349028340598, 'beta': 0.8166877398482928, 'loss_fn': 'log_cosh_dice', 'learning_rate': 0.006676293481204408}. Best is trial 2 with value: 0.41238153321884863.\n",
      "[I 2024-07-08 16:11:42,221] Trial 5 pruned. Exception occured in `FastAIV2PruningCallback` when calling event `after_fit`:\n",
      "\tTrial was pruned at epoch 0.\n",
      "[I 2024-07-08 16:21:01,525] Trial 6 finished with value: 0.3005064318122045 and parameters: {'alpha': 0.34899517999442875, 'beta': 0.4883639818665174, 'loss_fn': 'dice', 'learning_rate': 0.005344359558427908}. Best is trial 2 with value: 0.41238153321884863.\n",
      "[I 2024-07-08 16:30:21,696] Trial 7 finished with value: 0.28201305632551943 and parameters: {'alpha': 0.22703271213005738, 'beta': 0.7391345194816489, 'loss_fn': 'dice', 'learning_rate': 0.005396396770513381}. Best is trial 2 with value: 0.41238153321884863.\n"
     ]
    }
   ],
   "source": [
    "study = optuna.create_study(direction=\"maximize\") # use default pruner\n",
    "study.optimize(objective, n_trials=NUM_TRIALS, timeout=None)"
   ]
  },
  {
   "cell_type": "code",
   "execution_count": null,
   "id": "baa91fd7-10d2-4a20-8bef-c5ff204c89ea",
   "metadata": {},
   "outputs": [],
   "source": [
    "# print a bunch of junk\n",
    "\n",
    "print(\"Number of finished trials: {}\".format(len(study.trials)))\n",
    "\n",
    "print(\"Best trial:\")\n",
    "trial = study.best_trial\n",
    "\n",
    "print(\"  Value: {}\".format(trial.value))\n",
    "\n",
    "print(\"  Params: \")\n",
    "for key, value in trial.params.items():\n",
    "    print(\"    {}: {}\".format(key, value))"
   ]
  },
  {
   "cell_type": "code",
   "execution_count": null,
   "id": "31dba58e-3acc-433d-8122-9126f37ac27a",
   "metadata": {},
   "outputs": [],
   "source": [
    "vs.plot_timeline(study)"
   ]
  },
  {
   "cell_type": "code",
   "execution_count": null,
   "id": "75ed0d2f-14d0-4dc9-aa74-ca1447bf659c",
   "metadata": {},
   "outputs": [],
   "source": [
    "vs.plot_optimization_history(study)"
   ]
  },
  {
   "cell_type": "code",
   "execution_count": null,
   "id": "85f759d4-b6c2-4cb4-9e31-8e59df89b065",
   "metadata": {},
   "outputs": [],
   "source": []
  }
 ],
 "metadata": {
  "kernelspec": {
   "display_name": "Python 3 (ipykernel)",
   "language": "python",
   "name": "python3"
  },
  "language_info": {
   "codemirror_mode": {
    "name": "ipython",
    "version": 3
   },
   "file_extension": ".py",
   "mimetype": "text/x-python",
   "name": "python",
   "nbconvert_exporter": "python",
   "pygments_lexer": "ipython3",
   "version": "3.11.9"
  }
 },
 "nbformat": 4,
 "nbformat_minor": 5
}
