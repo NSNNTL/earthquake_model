{
 "cells": [
  {
   "cell_type": "markdown",
   "id": "bdfa716a-f1b3-427e-afbd-d2c5517d0794",
   "metadata": {},
   "source": [
    "## Goal-- build a packages on top of fastai for extra loss functions"
   ]
  },
  {
   "cell_type": "code",
   "execution_count": 1,
   "id": "82d03756-866e-4f8d-95e3-e9b310daf0f6",
   "metadata": {},
   "outputs": [],
   "source": [
    "import torch\n",
    "from fastai.data.all import *\n",
    "from fastai.vision.all import *\n",
    "from patchify import patchify\n",
    "from PIL import Image\n",
    "import optuna\n",
    "from optuna.integration import FastAIPruningCallback\n",
    "import optuna.visualization as vs\n",
    "#import monai.losses as mloss\n",
    "\n",
    "#from odyssey_losses.dice_loss import TverskyLoss"
   ]
  },
  {
   "cell_type": "code",
   "execution_count": 2,
   "id": "88b16195-1c35-4334-8397-49cd2b916fd1",
   "metadata": {},
   "outputs": [],
   "source": [
    "path = untar_data(URLs.CAMVID_TINY)\n",
    "dls = SegmentationDataLoaders.from_label_func(\n",
    "    path, bs=8, fnames = get_image_files(path/\"images\"),\n",
    "    label_func = lambda o: path/'labels'/f'{o.stem}_P{o.suffix}',\n",
    "    codes = np.loadtxt(path/'codes.txt', dtype=str)\n",
    ")\n",
    "\n",
    "def get_learner(loss_func):\n",
    "    learn = unet_learner(dls, resnet34, loss_func = loss_func, metrics=DiceMulti(axis=1))\n",
    "    lr = learn.lr_find()[0]\n",
    "    return learn, lr"
   ]
  },
  {
   "cell_type": "code",
   "execution_count": 3,
   "id": "6c26b57a-5655-4188-bee8-61699485de41",
   "metadata": {
    "scrolled": true
   },
   "outputs": [],
   "source": [
    "class DiceFocalLoss: # example class building on dice loss\n",
    "    \"Dice and Focal Loss combined\"\n",
    "    def __init__(self, axis=1, smooth=1., alpha=1.):\n",
    "        store_attr()\n",
    "        self.focal_loss = FocalLossFlat(axis=axis)\n",
    "        self.dice_loss =  DiceLoss(axis, smooth, reduction=\"mean\")\n",
    "        \n",
    "    def __call__(self, pred, targ):\n",
    "        return self.focal_loss(pred, targ) + self.alpha * self.dice_loss(pred, targ)\n",
    "    \n",
    "    def decodes(self, x):    return x.argmax(dim=self.axis)\n",
    "    def activation(self, x): return F.softmax(x, dim=self.axis)\n",
    "    # This works because fastai yoinks it using getcallable, a wrapper for getattr\n",
    "    # only the definition inside the outer class actually used matters!"
   ]
  },
  {
   "cell_type": "code",
   "execution_count": 4,
   "id": "7187956f-61c7-4249-853d-30fccf74b056",
   "metadata": {},
   "outputs": [],
   "source": [
    "class DiceCELoss: \n",
    "    \"Dice and Focal Loss combined\"\n",
    "    def __init__(self, axis=1, smooth=1., alpha=1.):\n",
    "        store_attr()\n",
    "        self.ce_loss = CrossEntropyLossFlat(axis=axis)\n",
    "        self.dice_loss =  DiceLoss(axis, smooth, reduction=\"mean\")\n",
    "        \n",
    "    def __call__(self, pred, targ):\n",
    "        return self.ce_loss(pred, targ) + self.dice_loss(pred, targ)\n",
    "    \n",
    "    def decodes(self, x):    return x.argmax(dim=self.axis)\n",
    "    def activation(self, x): return F.softmax(x, dim=self.axis)"
   ]
  },
  {
   "cell_type": "code",
   "execution_count": 5,
   "id": "c935ff20-f6ba-4942-b05d-b7ce2f45c099",
   "metadata": {},
   "outputs": [],
   "source": [
    "class SimpleDice:\n",
    "    \"Just a wrapper over dice loss for testing purposes.\"\n",
    "    def __init__(self, axis=1, smooth=1., alpha=1.):\n",
    "        store_attr()\n",
    "        self.dice_loss =  DiceLoss(axis, smooth, reduction=\"mean\")\n",
    "        \n",
    "    def __call__(self, pred, targ):\n",
    "        return self.dice_loss(pred, targ)\n",
    "    \n",
    "    def decodes(self, x):    return x.argmax(dim=self.axis)\n",
    "    def activation(self, x): return F.softmax(x, dim=self.axis)\n"
   ]
  },
  {
   "cell_type": "code",
   "execution_count": 9,
   "id": "78a28b63-a9bb-453f-982e-a9342639c5b0",
   "metadata": {},
   "outputs": [],
   "source": [
    "class LogCoshDiceLoss:\n",
    "    \"proposed in http://arxiv.org/abs/2006.14822\"\n",
    "    def __init__(self, axis=1, smooth=1., alpha=1.):\n",
    "        store_attr()\n",
    "        self.dice_loss =  DiceLoss(axis, smooth, reduction=\"mean\")\n",
    "        \n",
    "    def __call__(self, pred, targ):\n",
    "        return torch.log(torch.cosh(self.dice_loss(pred, targ))) #something wrong with this implementation...\n",
    "    \n",
    "    def decodes(self, x):    return x.argmax(dim=self.axis)\n",
    "    def activation(self, x): return F.softmax(x, dim=self.axis)\n",
    "    #def activation(self, x): return x # no activation??"
   ]
  },
  {
   "cell_type": "markdown",
   "id": "f50200a3-25e7-4d42-a834-024838287979",
   "metadata": {},
   "source": [
    "### !!! The model has NO softmax !!! You must provide your own in the loss fn"
   ]
  },
  {
   "cell_type": "code",
   "execution_count": 10,
   "id": "93b5ecb4-5461-44ca-89d6-6d542691e3a0",
   "metadata": {},
   "outputs": [
    {
     "data": {
      "text/html": [
       "\n",
       "<style>\n",
       "    /* Turns off some styling */\n",
       "    progress {\n",
       "        /* gets rid of default border in Firefox and Opera. */\n",
       "        border: none;\n",
       "        /* Needs to be in here for Safari polyfill so background images work as expected. */\n",
       "        background-size: auto;\n",
       "    }\n",
       "    progress:not([value]), progress:not([value])::-webkit-progress-bar {\n",
       "        background: repeating-linear-gradient(45deg, #7e7e7e, #7e7e7e 10px, #5c5c5c 10px, #5c5c5c 20px);\n",
       "    }\n",
       "    .progress-bar-interrupted, .progress-bar-interrupted::-webkit-progress-bar {\n",
       "        background: #F44336;\n",
       "    }\n",
       "</style>\n"
      ],
      "text/plain": [
       "<IPython.core.display.HTML object>"
      ]
     },
     "metadata": {},
     "output_type": "display_data"
    },
    {
     "data": {
      "text/html": [],
      "text/plain": [
       "<IPython.core.display.HTML object>"
      ]
     },
     "metadata": {},
     "output_type": "display_data"
    },
    {
     "data": {
      "image/png": "[encoded data removed]",
      "text/plain": [
       "<Figure size 640x480 with 1 Axes>"
      ]
     },
     "metadata": {},
     "output_type": "display_data"
    }
   ],
   "source": [
    "#loss_func = DiceFocalLoss()\n",
    "#loss_func = DiceLoss(reduction=\"sum\") #reduction must be the mean??\n",
    "#loss_func = CrossEntropyLossFlat(axis=1)\n",
    "#loss_func = SimpleDice()\n",
    "#loss_func = DiceCELoss()\n",
    "loss_func = LogCoshDiceLoss()\n",
    "learn, lr = get_learner(loss_func)"
   ]
  },
  {
   "cell_type": "code",
   "execution_count": 11,
   "id": "889bff5a-c592-4369-8931-255ccb379495",
   "metadata": {},
   "outputs": [
    {
     "data": {
      "text/html": [
       "\n",
       "<style>\n",
       "    /* Turns off some styling */\n",
       "    progress {\n",
       "        /* gets rid of default border in Firefox and Opera. */\n",
       "        border: none;\n",
       "        /* Needs to be in here for Safari polyfill so background images work as expected. */\n",
       "        background-size: auto;\n",
       "    }\n",
       "    progress:not([value]), progress:not([value])::-webkit-progress-bar {\n",
       "        background: repeating-linear-gradient(45deg, #7e7e7e, #7e7e7e 10px, #5c5c5c 10px, #5c5c5c 20px);\n",
       "    }\n",
       "    .progress-bar-interrupted, .progress-bar-interrupted::-webkit-progress-bar {\n",
       "        background: #F44336;\n",
       "    }\n",
       "</style>\n"
      ],
      "text/plain": [
       "<IPython.core.display.HTML object>"
      ]
     },
     "metadata": {},
     "output_type": "display_data"
    },
    {
     "data": {
      "text/html": [
       "<table border=\"1\" class=\"dataframe\">\n",
       "  <thead>\n",
       "    <tr style=\"text-align: left;\">\n",
       "      <th>epoch</th>\n",
       "      <th>train_loss</th>\n",
       "      <th>valid_loss</th>\n",
       "      <th>dice_multi</th>\n",
       "      <th>time</th>\n",
       "    </tr>\n",
       "  </thead>\n",
       "  <tbody>\n",
       "    <tr>\n",
       "      <td>0</td>\n",
       "      <td>0.215605</td>\n",
       "      <td>0.110183</td>\n",
       "      <td>0.013934</td>\n",
       "      <td>00:01</td>\n",
       "    </tr>\n",
       "  </tbody>\n",
       "</table>"
      ],
      "text/plain": [
       "<IPython.core.display.HTML object>"
      ]
     },
     "metadata": {},
     "output_type": "display_data"
    },
    {
     "data": {
      "text/html": [
       "\n",
       "<style>\n",
       "    /* Turns off some styling */\n",
       "    progress {\n",
       "        /* gets rid of default border in Firefox and Opera. */\n",
       "        border: none;\n",
       "        /* Needs to be in here for Safari polyfill so background images work as expected. */\n",
       "        background-size: auto;\n",
       "    }\n",
       "    progress:not([value]), progress:not([value])::-webkit-progress-bar {\n",
       "        background: repeating-linear-gradient(45deg, #7e7e7e, #7e7e7e 10px, #5c5c5c 10px, #5c5c5c 20px);\n",
       "    }\n",
       "    .progress-bar-interrupted, .progress-bar-interrupted::-webkit-progress-bar {\n",
       "        background: #F44336;\n",
       "    }\n",
       "</style>\n"
      ],
      "text/plain": [
       "<IPython.core.display.HTML object>"
      ]
     },
     "metadata": {},
     "output_type": "display_data"
    },
    {
     "data": {
      "text/html": [
       "<table border=\"1\" class=\"dataframe\">\n",
       "  <thead>\n",
       "    <tr style=\"text-align: left;\">\n",
       "      <th>epoch</th>\n",
       "      <th>train_loss</th>\n",
       "      <th>valid_loss</th>\n",
       "      <th>dice_multi</th>\n",
       "      <th>time</th>\n",
       "    </tr>\n",
       "  </thead>\n",
       "  <tbody>\n",
       "    <tr>\n",
       "      <td>0</td>\n",
       "      <td>0.106506</td>\n",
       "      <td>0.110183</td>\n",
       "      <td>0.013934</td>\n",
       "      <td>00:01</td>\n",
       "    </tr>\n",
       "    <tr>\n",
       "      <td>1</td>\n",
       "      <td>0.106366</td>\n",
       "      <td>0.110183</td>\n",
       "      <td>0.013934</td>\n",
       "      <td>00:01</td>\n",
       "    </tr>\n",
       "    <tr>\n",
       "      <td>2</td>\n",
       "      <td>0.106424</td>\n",
       "      <td>0.110183</td>\n",
       "      <td>0.013934</td>\n",
       "      <td>00:01</td>\n",
       "    </tr>\n",
       "    <tr>\n",
       "      <td>3</td>\n",
       "      <td>0.106433</td>\n",
       "      <td>0.110183</td>\n",
       "      <td>0.013934</td>\n",
       "      <td>00:01</td>\n",
       "    </tr>\n",
       "    <tr>\n",
       "      <td>4</td>\n",
       "      <td>0.106333</td>\n",
       "      <td>0.110183</td>\n",
       "      <td>0.013934</td>\n",
       "      <td>00:01</td>\n",
       "    </tr>\n",
       "    <tr>\n",
       "      <td>5</td>\n",
       "      <td>0.106347</td>\n",
       "      <td>0.110183</td>\n",
       "      <td>0.013934</td>\n",
       "      <td>00:01</td>\n",
       "    </tr>\n",
       "    <tr>\n",
       "      <td>6</td>\n",
       "      <td>0.106304</td>\n",
       "      <td>0.110183</td>\n",
       "      <td>0.013934</td>\n",
       "      <td>00:01</td>\n",
       "    </tr>\n",
       "    <tr>\n",
       "      <td>7</td>\n",
       "      <td>0.106416</td>\n",
       "      <td>0.110183</td>\n",
       "      <td>0.013934</td>\n",
       "      <td>00:01</td>\n",
       "    </tr>\n",
       "  </tbody>\n",
       "</table>"
      ],
      "text/plain": [
       "<IPython.core.display.HTML object>"
      ]
     },
     "metadata": {},
     "output_type": "display_data"
    },
    {
     "data": {
      "text/plain": [
       "<Axes: title={'center': 'learning curve'}, xlabel='steps', ylabel='loss'>"
      ]
     },
     "execution_count": 11,
     "metadata": {},
     "output_type": "execute_result"
    },
    {
     "data": {
      "image/png": "[encoded data removed]",
      "text/plain": [
       "<Figure size 640x480 with 1 Axes>"
      ]
     },
     "metadata": {},
     "output_type": "display_data"
    }
   ],
   "source": [
    "learn.fine_tune(8, lr)\n",
    "learn.recorder.plot_loss()"
   ]
  }
 ],
 "metadata": {
  "kernelspec": {
   "display_name": "Python 3 (ipykernel)",
   "language": "python",
   "name": "python3"
  },
  "language_info": {
   "codemirror_mode": {
    "name": "ipython",
    "version": 3
   },
   "file_extension": ".py",
   "mimetype": "text/x-python",
   "name": "python",
   "nbconvert_exporter": "python",
   "pygments_lexer": "ipython3",
   "version": "3.11.9"
  }
 },
 "nbformat": 4,
 "nbformat_minor": 5
}
