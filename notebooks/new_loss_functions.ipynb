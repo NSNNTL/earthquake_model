{
 "cells": [
  {
   "cell_type": "markdown",
   "id": "bdfa716a-f1b3-427e-afbd-d2c5517d0794",
   "metadata": {},
   "source": [
    "## Goal-- build a packages on top of fastai for extra loss functions"
   ]
  },
  {
   "cell_type": "code",
   "execution_count": 1,
   "id": "82d03756-866e-4f8d-95e3-e9b310daf0f6",
   "metadata": {},
   "outputs": [],
   "source": [
    "import torch\n",
    "from fastai.data.all import *\n",
    "from fastai.vision.all import *\n",
    "from patchify import patchify\n",
    "from PIL import Image\n",
    "import optuna\n",
    "from optuna.integration import FastAIPruningCallback\n",
    "import optuna.visualization as vs\n",
    "#import monai.losses as mloss\n",
    "\n",
    "#from odyssey_losses.dice_loss import TverskyLoss"
   ]
  },
  {
   "cell_type": "code",
   "execution_count": 2,
   "id": "88b16195-1c35-4334-8397-49cd2b916fd1",
   "metadata": {},
   "outputs": [],
   "source": [
    "path = untar_data(URLs.CAMVID_TINY)\n",
    "dls = SegmentationDataLoaders.from_label_func(\n",
    "    path, bs=8, fnames = get_image_files(path/\"images\"),\n",
    "    label_func = lambda o: path/'labels'/f'{o.stem}_P{o.suffix}',\n",
    "    codes = np.loadtxt(path/'codes.txt', dtype=str)\n",
    ")\n",
    "\n",
    "def get_learner(loss_func):\n",
    "    learn = unet_learner(dls, resnet34, loss_func = loss_func, metrics=DiceMulti(axis=1))\n",
    "    lr = learn.lr_find()[0]\n",
    "    return learn, lr"
   ]
  },
  {
   "cell_type": "code",
   "execution_count": 3,
   "id": "6c26b57a-5655-4188-bee8-61699485de41",
   "metadata": {
    "scrolled": true
   },
   "outputs": [],
   "source": [
    "class DiceFocalLoss: # example class building on dice loss\n",
    "    \"Dice and Focal Loss combined\"\n",
    "    def __init__(self, axis=1, smooth=1., alpha=1.):\n",
    "        store_attr()\n",
    "        self.focal_loss = FocalLossFlat(axis=axis)\n",
    "        self.dice_loss =  DiceLoss(axis, smooth, reduction=\"mean\")\n",
    "        \n",
    "    def __call__(self, pred, targ):\n",
    "        return self.focal_loss(pred, targ) + self.alpha * self.dice_loss(pred, targ)\n",
    "    \n",
    "    def decodes(self, x):    return x.argmax(dim=self.axis)\n",
    "    def activation(self, x): return F.softmax(x, dim=self.axis)\n",
    "    # This works because fastai yoinks it using getcallable, a wrapper for getattr\n",
    "    # only the definition inside the outer class actually used matters!"
   ]
  },
  {
   "cell_type": "code",
   "execution_count": 4,
   "id": "7187956f-61c7-4249-853d-30fccf74b056",
   "metadata": {},
   "outputs": [],
   "source": [
    "class DiceCELoss: \n",
    "    \"Dice and Focal Loss combined\"\n",
    "    def __init__(self, axis=1, smooth=1., alpha=1.):\n",
    "        store_attr()\n",
    "        self.ce_loss = CrossEntropyLossFlat(axis=axis)\n",
    "        self.dice_loss =  DiceLoss(axis, smooth, reduction=\"mean\")\n",
    "        \n",
    "    def __call__(self, pred, targ):\n",
    "        return self.ce_loss(pred, targ) + self.dice_loss(pred, targ)\n",
    "    \n",
    "    def decodes(self, x):    return x.argmax(dim=self.axis)\n",
    "    def activation(self, x): return F.softmax(x, dim=self.axis)"
   ]
  },
  {
   "cell_type": "code",
   "execution_count": 5,
   "id": "c935ff20-f6ba-4942-b05d-b7ce2f45c099",
   "metadata": {},
   "outputs": [],
   "source": [
    "class SimpleDice:\n",
    "    \"Just a wrapper over dice loss for testing purposes.\"\n",
    "    def __init__(self, axis=1, smooth=1., alpha=1.):\n",
    "        store_attr()\n",
    "        self.dice_loss =  DiceLoss(axis, smooth, reduction=\"mean\")\n",
    "        \n",
    "    def __call__(self, pred, targ):\n",
    "        return self.dice_loss(pred, targ)\n",
    "    \n",
    "    def decodes(self, x):    return x.argmax(dim=self.axis)\n",
    "    def activation(self, x): return F.softmax(x, dim=self.axis)\n"
   ]
  },
  {
   "cell_type": "code",
   "execution_count": 6,
   "id": "78a28b63-a9bb-453f-982e-a9342639c5b0",
   "metadata": {},
   "outputs": [],
   "source": [
    "class LogCoshDiceLoss:\n",
    "    \"proposed in http://arxiv.org/abs/2006.14822\"\n",
    "    def __init__(self, axis=1, smooth=1., alpha=1.):\n",
    "        store_attr()\n",
    "        self.dice_loss =  DiceLoss(axis, smooth, reduction=\"sum\") # sum won't even work. Interesting.\n",
    "        \n",
    "    def __call__(self, pred, targ):\n",
    "        x = self.dice_loss(pred, targ)\n",
    "        #return torch.log(torch.cosh(x)) #something wrong with this implementation...\n",
    "        return torch.log((torch.exp(x) + torch.exp(-x)) / 2.0) # pretty much the same problem. Something screwy with the activation perhaps...\n",
    "    \n",
    "    def decodes(self, x):    return x.argmax(dim=self.axis)\n",
    "    def activation(self, x): return F.softmax(x, dim=self.axis)\n",
    "    #def activation(self, x): return x # no activation??"
   ]
  },
  {
   "cell_type": "markdown",
   "id": "f50200a3-25e7-4d42-a834-024838287979",
   "metadata": {},
   "source": [
    "### !!! The model has NO softmax !!! You must provide your own in the loss fn"
   ]
  },
  {
   "cell_type": "markdown",
   "id": "121e47d6-2c98-4e44-bd97-9c11a821430f",
   "metadata": {},
   "source": [
    "## THE LOSS. NEEDS. TO. BE. FLATTENED."
   ]
  },
  {
   "cell_type": "markdown",
   "id": "810d1f5d-ebba-45af-a0d3-6467833c5ad7",
   "metadata": {},
   "source": [
    "### Alternative: abandon fastai loss classes entirely, instead relying on functions."
   ]
  },
  {
   "cell_type": "code",
   "execution_count": 7,
   "id": "3b0aba80-23dd-45d2-a698-86e8d3e013fd",
   "metadata": {},
   "outputs": [
    {
     "data": {
      "text/plain": [
       "\u001b[0;31mInit signature:\u001b[0m\n",
       "\u001b[0mDiceLoss\u001b[0m\u001b[0;34m(\u001b[0m\u001b[0;34m\u001b[0m\n",
       "\u001b[0;34m\u001b[0m    \u001b[0maxis\u001b[0m\u001b[0;34m:\u001b[0m \u001b[0;34m'int'\u001b[0m \u001b[0;34m=\u001b[0m \u001b[0;36m1\u001b[0m\u001b[0;34m,\u001b[0m\u001b[0;34m\u001b[0m\n",
       "\u001b[0;34m\u001b[0m    \u001b[0msmooth\u001b[0m\u001b[0;34m:\u001b[0m \u001b[0;34m'float'\u001b[0m \u001b[0;34m=\u001b[0m \u001b[0;36m1e-06\u001b[0m\u001b[0;34m,\u001b[0m\u001b[0;34m\u001b[0m\n",
       "\u001b[0;34m\u001b[0m    \u001b[0mreduction\u001b[0m\u001b[0;34m:\u001b[0m \u001b[0;34m'str'\u001b[0m \u001b[0;34m=\u001b[0m \u001b[0;34m'sum'\u001b[0m\u001b[0;34m,\u001b[0m\u001b[0;34m\u001b[0m\n",
       "\u001b[0;34m\u001b[0m    \u001b[0msquare_in_union\u001b[0m\u001b[0;34m:\u001b[0m \u001b[0;34m'bool'\u001b[0m \u001b[0;34m=\u001b[0m \u001b[0;32mFalse\u001b[0m\u001b[0;34m,\u001b[0m\u001b[0;34m\u001b[0m\n",
       "\u001b[0;34m\u001b[0m\u001b[0;34m)\u001b[0m\u001b[0;34m\u001b[0m\u001b[0;34m\u001b[0m\u001b[0m\n",
       "\u001b[0;31mDocstring:\u001b[0m      Dice loss for segmentation\n",
       "\u001b[0;31mFile:\u001b[0m           ~/.pyenv/versions/mambaforge/envs/fastai/lib/python3.11/site-packages/fastai/losses.py\n",
       "\u001b[0;31mType:\u001b[0m           type\n",
       "\u001b[0;31mSubclasses:\u001b[0m     "
      ]
     },
     "metadata": {},
     "output_type": "display_data"
    }
   ],
   "source": [
    "DiceLoss?"
   ]
  },
  {
   "cell_type": "code",
   "execution_count": 8,
   "id": "93b5ecb4-5461-44ca-89d6-6d542691e3a0",
   "metadata": {},
   "outputs": [
    {
     "data": {
      "text/html": [
       "\n",
       "<style>\n",
       "    /* Turns off some styling */\n",
       "    progress {\n",
       "        /* gets rid of default border in Firefox and Opera. */\n",
       "        border: none;\n",
       "        /* Needs to be in here for Safari polyfill so background images work as expected. */\n",
       "        background-size: auto;\n",
       "    }\n",
       "    progress:not([value]), progress:not([value])::-webkit-progress-bar {\n",
       "        background: repeating-linear-gradient(45deg, #7e7e7e, #7e7e7e 10px, #5c5c5c 10px, #5c5c5c 20px);\n",
       "    }\n",
       "    .progress-bar-interrupted, .progress-bar-interrupted::-webkit-progress-bar {\n",
       "        background: #F44336;\n",
       "    }\n",
       "</style>\n"
      ],
      "text/plain": [
       "<IPython.core.display.HTML object>"
      ]
     },
     "metadata": {},
     "output_type": "display_data"
    },
    {
     "data": {
      "text/html": [],
      "text/plain": [
       "<IPython.core.display.HTML object>"
      ]
     },
     "metadata": {},
     "output_type": "display_data"
    },
    {
     "data": {
      "image/png": "[encoded data removed]",
      "text/plain": [
       "<Figure size 640x480 with 1 Axes>"
      ]
     },
     "metadata": {},
     "output_type": "display_data"
    }
   ],
   "source": [
    "#loss_func = DiceFocalLoss()\n",
    "#loss_func = BaseLoss(DiceLoss, axis=1, smooth=1, reduction=\"mean\")#, square_in_union=True) #dice loss is naturally unsmooth\n",
    "loss_func = DiceLoss() #dice loss is naturally unsmooth\n",
    "\n",
    "#loss_func = CrossEntropyLossFlat(axis=1)\n",
    "#loss_func = SimpleDice()\n",
    "#loss_func = DiceCELoss()\n",
    "#loss_func = LogCoshDiceLoss()\n",
    "learn, lr = get_learner(loss_func)"
   ]
  },
  {
   "cell_type": "code",
   "execution_count": 9,
   "id": "889bff5a-c592-4369-8931-255ccb379495",
   "metadata": {},
   "outputs": [
    {
     "data": {
      "text/html": [
       "\n",
       "<style>\n",
       "    /* Turns off some styling */\n",
       "    progress {\n",
       "        /* gets rid of default border in Firefox and Opera. */\n",
       "        border: none;\n",
       "        /* Needs to be in here for Safari polyfill so background images work as expected. */\n",
       "        background-size: auto;\n",
       "    }\n",
       "    progress:not([value]), progress:not([value])::-webkit-progress-bar {\n",
       "        background: repeating-linear-gradient(45deg, #7e7e7e, #7e7e7e 10px, #5c5c5c 10px, #5c5c5c 20px);\n",
       "    }\n",
       "    .progress-bar-interrupted, .progress-bar-interrupted::-webkit-progress-bar {\n",
       "        background: #F44336;\n",
       "    }\n",
       "</style>\n"
      ],
      "text/plain": [
       "<IPython.core.display.HTML object>"
      ]
     },
     "metadata": {},
     "output_type": "display_data"
    },
    {
     "data": {
      "text/html": [
       "<table border=\"1\" class=\"dataframe\">\n",
       "  <thead>\n",
       "    <tr style=\"text-align: left;\">\n",
       "      <th>epoch</th>\n",
       "      <th>train_loss</th>\n",
       "      <th>valid_loss</th>\n",
       "      <th>dice_multi</th>\n",
       "      <th>time</th>\n",
       "    </tr>\n",
       "  </thead>\n",
       "  <tbody>\n",
       "    <tr>\n",
       "      <td>0</td>\n",
       "      <td>206.675491</td>\n",
       "      <td>113.060135</td>\n",
       "      <td>0.016029</td>\n",
       "      <td>00:01</td>\n",
       "    </tr>\n",
       "  </tbody>\n",
       "</table>"
      ],
      "text/plain": [
       "<IPython.core.display.HTML object>"
      ]
     },
     "metadata": {},
     "output_type": "display_data"
    },
    {
     "data": {
      "text/html": [
       "\n",
       "<style>\n",
       "    /* Turns off some styling */\n",
       "    progress {\n",
       "        /* gets rid of default border in Firefox and Opera. */\n",
       "        border: none;\n",
       "        /* Needs to be in here for Safari polyfill so background images work as expected. */\n",
       "        background-size: auto;\n",
       "    }\n",
       "    progress:not([value]), progress:not([value])::-webkit-progress-bar {\n",
       "        background: repeating-linear-gradient(45deg, #7e7e7e, #7e7e7e 10px, #5c5c5c 10px, #5c5c5c 20px);\n",
       "    }\n",
       "    .progress-bar-interrupted, .progress-bar-interrupted::-webkit-progress-bar {\n",
       "        background: #F44336;\n",
       "    }\n",
       "</style>\n"
      ],
      "text/plain": [
       "<IPython.core.display.HTML object>"
      ]
     },
     "metadata": {},
     "output_type": "display_data"
    },
    {
     "data": {
      "text/html": [
       "<table border=\"1\" class=\"dataframe\">\n",
       "  <thead>\n",
       "    <tr style=\"text-align: left;\">\n",
       "      <th>epoch</th>\n",
       "      <th>train_loss</th>\n",
       "      <th>valid_loss</th>\n",
       "      <th>dice_multi</th>\n",
       "      <th>time</th>\n",
       "    </tr>\n",
       "  </thead>\n",
       "  <tbody>\n",
       "    <tr>\n",
       "      <td>0</td>\n",
       "      <td>123.438820</td>\n",
       "      <td>113.060135</td>\n",
       "      <td>0.016029</td>\n",
       "      <td>00:01</td>\n",
       "    </tr>\n",
       "    <tr>\n",
       "      <td>1</td>\n",
       "      <td>123.516426</td>\n",
       "      <td>113.060135</td>\n",
       "      <td>0.016029</td>\n",
       "      <td>00:01</td>\n",
       "    </tr>\n",
       "    <tr>\n",
       "      <td>2</td>\n",
       "      <td>123.529465</td>\n",
       "      <td>113.060135</td>\n",
       "      <td>0.016029</td>\n",
       "      <td>00:01</td>\n",
       "    </tr>\n",
       "    <tr>\n",
       "      <td>3</td>\n",
       "      <td>123.480774</td>\n",
       "      <td>113.060135</td>\n",
       "      <td>0.016029</td>\n",
       "      <td>00:01</td>\n",
       "    </tr>\n",
       "    <tr>\n",
       "      <td>4</td>\n",
       "      <td>123.515022</td>\n",
       "      <td>113.060135</td>\n",
       "      <td>0.016029</td>\n",
       "      <td>00:01</td>\n",
       "    </tr>\n",
       "    <tr>\n",
       "      <td>5</td>\n",
       "      <td>123.506401</td>\n",
       "      <td>113.060135</td>\n",
       "      <td>0.016029</td>\n",
       "      <td>00:01</td>\n",
       "    </tr>\n",
       "    <tr>\n",
       "      <td>6</td>\n",
       "      <td>123.448074</td>\n",
       "      <td>113.060135</td>\n",
       "      <td>0.016029</td>\n",
       "      <td>00:01</td>\n",
       "    </tr>\n",
       "    <tr>\n",
       "      <td>7</td>\n",
       "      <td>123.434250</td>\n",
       "      <td>113.060135</td>\n",
       "      <td>0.016029</td>\n",
       "      <td>00:01</td>\n",
       "    </tr>\n",
       "  </tbody>\n",
       "</table>"
      ],
      "text/plain": [
       "<IPython.core.display.HTML object>"
      ]
     },
     "metadata": {},
     "output_type": "display_data"
    },
    {
     "data": {
      "text/plain": [
       "<Axes: title={'center': 'learning curve'}, xlabel='steps', ylabel='loss'>"
      ]
     },
     "execution_count": 9,
     "metadata": {},
     "output_type": "execute_result"
    },
    {
     "data": {
      "image/png": "[encoded data removed]",
      "text/plain": [
       "<Figure size 640x480 with 1 Axes>"
      ]
     },
     "metadata": {},
     "output_type": "display_data"
    }
   ],
   "source": [
    "learn.fine_tune(8, lr)\n",
    "learn.recorder.plot_loss()"
   ]
  },
  {
   "cell_type": "code",
   "execution_count": 10,
   "id": "650cb82c-b3f4-4055-a74e-7dc9147f9926",
   "metadata": {},
   "outputs": [],
   "source": [
    "# interesting. SimpleDice has the same problem it seems. I thought it worked??\n",
    "# OK. now regular dice won't work??\n",
    "# what does the jagged train loss, perfectly flat valid loss mean? Is there no back-propogation??\n",
    "\n",
    "# ce works fine. Some kind of shape problem??"
   ]
  },
  {
   "cell_type": "code",
   "execution_count": null,
   "id": "aea6bb25-491c-467e-a2d3-aee92f42f683",
   "metadata": {},
   "outputs": [],
   "source": []
  }
 ],
 "metadata": {
  "kernelspec": {
   "display_name": "Python 3 (ipykernel)",
   "language": "python",
   "name": "python3"
  },
  "language_info": {
   "codemirror_mode": {
    "name": "ipython",
    "version": 3
   },
   "file_extension": ".py",
   "mimetype": "text/x-python",
   "name": "python",
   "nbconvert_exporter": "python",
   "pygments_lexer": "ipython3",
   "version": "3.12.4"
  }
 },
 "nbformat": 4,
 "nbformat_minor": 5
}
