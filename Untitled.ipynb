{
 "cells": [
  {
   "cell_type": "code",
   "execution_count": 2,
   "id": "fec079d5-1f94-4581-87f0-1093c842fa91",
   "metadata": {},
   "outputs": [
    {
     "data": {
      "text/plain": [
       "(#3) [Path('/home/dawson/.fastai/data/camvid_tiny/codes.txt'),Path('/home/dawson/.fastai/data/camvid_tiny/labels'),Path('/home/dawson/.fastai/data/camvid_tiny/images')]"
      ]
     },
     "execution_count": 2,
     "metadata": {},
     "output_type": "execute_result"
    }
   ],
   "source": [
    "from fastai.data.all import *\n",
    "from fastai.vision.all import *\n",
    "path = untar_data(URLs.CAMVID_TINY)\n",
    "path.ls()"
   ]
  },
  {
   "cell_type": "code",
   "execution_count": null,
   "id": "7d51c0e2-5905-49f1-9dcd-b974c6cad880",
   "metadata": {},
   "outputs": [],
   "source": []
  }
 ],
 "metadata": {
  "kernelspec": {
   "display_name": "Python 3 (ipykernel)",
   "language": "python",
   "name": "python3"
  },
  "language_info": {
   "codemirror_mode": {
    "name": "ipython",
    "version": 3
   },
   "file_extension": ".py",
   "mimetype": "text/x-python",
   "name": "python",
   "nbconvert_exporter": "python",
   "pygments_lexer": "ipython3",
   "version": "3.11.9"
  }
 },
 "nbformat": 4,
 "nbformat_minor": 5
}
